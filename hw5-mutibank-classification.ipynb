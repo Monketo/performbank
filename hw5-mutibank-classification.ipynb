{
 "cells": [
  {
   "cell_type": "code",
   "execution_count": 1,
   "metadata": {
    "collapsed": true
   },
   "outputs": [],
   "source": [
    "import pandas as pd\n",
    "import pandas_profiling\n",
    "import numpy as np "
   ]
  },
  {
   "cell_type": "code",
   "execution_count": 2,
   "metadata": {
    "collapsed": true
   },
   "outputs": [],
   "source": [
    "import matplotlib.pyplot as plt\n",
    "import seaborn as sns\n",
    "%matplotlib inline"
   ]
  },
  {
   "cell_type": "code",
   "execution_count": 3,
   "metadata": {
    "collapsed": true
   },
   "outputs": [],
   "source": [
    "train = pd.read_csv(\"../data/modulbank/train.csv\",delimiter=\"\\t\")\n",
    "test = pd.read_csv(\"../data/modulbank/test.csv\",delimiter=\"\\t\")"
   ]
  },
  {
   "cell_type": "code",
   "execution_count": 4,
   "metadata": {
    "collapsed": true
   },
   "outputs": [],
   "source": [
    "test.drop([\"Unnamed: 0\"],axis=1,inplace=True)\n",
    "train.drop([\"Unnamed: 0\"],axis=1,inplace=True)"
   ]
  },
  {
   "cell_type": "code",
   "execution_count": 5,
   "metadata": {},
   "outputs": [
    {
     "data": {
      "text/plain": [
       "0    0.822197\n",
       "1    0.177803\n",
       "Name: 0, dtype: float64"
      ]
     },
     "execution_count": 5,
     "metadata": {},
     "output_type": "execute_result"
    }
   ],
   "source": [
    "train[\"0\"].value_counts(normalize=True)"
   ]
  },
  {
   "cell_type": "code",
   "execution_count": null,
   "metadata": {},
   "outputs": [],
   "source": []
  },
  {
   "cell_type": "code",
   "execution_count": 6,
   "metadata": {
    "collapsed": true
   },
   "outputs": [],
   "source": [
    "all_dataframe = pd.concat([train,test])"
   ]
  },
  {
   "cell_type": "code",
   "execution_count": 10,
   "metadata": {
    "collapsed": true
   },
   "outputs": [],
   "source": [
    "report = pandas_profiling.ProfileReport(all_dataframe)"
   ]
  },
  {
   "cell_type": "code",
   "execution_count": 333,
   "metadata": {
    "collapsed": true
   },
   "outputs": [],
   "source": [
    "report.to_file(\"report_all.html\")"
   ]
  },
  {
   "cell_type": "code",
   "execution_count": 11,
   "metadata": {
    "collapsed": true
   },
   "outputs": [],
   "source": [
    "rejected = report.get_rejected_variables()"
   ]
  },
  {
   "cell_type": "markdown",
   "metadata": {},
   "source": [
    "According to the report shows that some features are constant"
   ]
  },
  {
   "cell_type": "code",
   "execution_count": 12,
   "metadata": {
    "collapsed": true
   },
   "outputs": [],
   "source": [
    "all_dataframe.drop(rejected,axis=1,inplace=True)"
   ]
  },
  {
   "cell_type": "code",
   "execution_count": 13,
   "metadata": {
    "collapsed": true
   },
   "outputs": [],
   "source": [
    "train,test = all_dataframe[:len(train)],all_dataframe[len(train):]"
   ]
  },
  {
   "cell_type": "code",
   "execution_count": 14,
   "metadata": {
    "collapsed": true
   },
   "outputs": [],
   "source": [
    "from sklearn.linear_model import LogisticRegression\n",
    "from sklearn.svm import LinearSVC,SVC\n",
    "from sklearn.ensemble import RandomForestClassifier\n",
    "from sklearn.model_selection import cross_val_score,GridSearchCV,RandomizedSearchCV"
   ]
  },
  {
   "cell_type": "code",
   "execution_count": 15,
   "metadata": {
    "collapsed": true
   },
   "outputs": [],
   "source": [
    "from sklearn.model_selection import StratifiedKFold\n",
    "skf = StratifiedKFold(n_splits=8,random_state=42,shuffle=True)\n"
   ]
  },
  {
   "cell_type": "code",
   "execution_count": 16,
   "metadata": {
    "collapsed": true
   },
   "outputs": [],
   "source": [
    "X_train_new,Y_train_new = train.drop([\"0\"],axis=1),train[\"0\"]\n",
    "myIterator=skf.split(X_train_new,Y_train_new)"
   ]
  },
  {
   "cell_type": "code",
   "execution_count": 397,
   "metadata": {
    "collapsed": true
   },
   "outputs": [],
   "source": [
    "log_reg  = LogisticRegression()\n",
    "params = {\"C\":[0.01,0.1,1,5,10]}\n",
    "grid_search = GridSearchCV(log_reg,param_grid=params,scoring=\"roc_auc\",cv=myIterator,verbose=3,n_jobs=1)"
   ]
  },
  {
   "cell_type": "code",
   "execution_count": 398,
   "metadata": {
    "scrolled": true
   },
   "outputs": [
    {
     "name": "stdout",
     "output_type": "stream",
     "text": [
      "Fitting 8 folds for each of 5 candidates, totalling 40 fits\n",
      "[CV] C=0.01 ..........................................................\n",
      "[CV] ................. C=0.01, score=0.7119386694142167, total=   1.2s\n",
      "[CV] C=0.01 ..........................................................\n"
     ]
    },
    {
     "name": "stderr",
     "output_type": "stream",
     "text": [
      "[Parallel(n_jobs=1)]: Done   1 out of   1 | elapsed:    1.4s remaining:    0.0s\n"
     ]
    },
    {
     "name": "stdout",
     "output_type": "stream",
     "text": [
      "[CV] ................. C=0.01, score=0.7212224715717962, total=   1.2s\n",
      "[CV] C=0.01 ..........................................................\n"
     ]
    },
    {
     "name": "stderr",
     "output_type": "stream",
     "text": [
      "[Parallel(n_jobs=1)]: Done   2 out of   2 | elapsed:    2.6s remaining:    0.0s\n"
     ]
    },
    {
     "name": "stdout",
     "output_type": "stream",
     "text": [
      "[CV] ................. C=0.01, score=0.7089897578486306, total=   1.2s\n",
      "[CV] C=0.01 ..........................................................\n",
      "[CV] ................. C=0.01, score=0.7196111087587566, total=   1.0s\n",
      "[CV] C=0.01 ..........................................................\n",
      "[CV] ................. C=0.01, score=0.7300517988454643, total=   1.1s\n",
      "[CV] C=0.01 ..........................................................\n",
      "[CV] ................. C=0.01, score=0.7184194475662306, total=   1.1s\n",
      "[CV] C=0.01 ..........................................................\n",
      "[CV] ................. C=0.01, score=0.7248283645166818, total=   1.0s\n",
      "[CV] C=0.01 ..........................................................\n",
      "[CV] ................. C=0.01, score=0.7230079586448341, total=   1.0s\n",
      "[CV] C=0.1 ...........................................................\n",
      "[CV] .................... C=0.1, score=0.72474206433219, total=   1.7s\n",
      "[CV] C=0.1 ...........................................................\n",
      "[CV] .................. C=0.1, score=0.7321016405320085, total=   2.1s\n",
      "[CV] C=0.1 ...........................................................\n",
      "[CV] .................. C=0.1, score=0.7180881944738489, total=   1.9s\n",
      "[CV] C=0.1 ...........................................................\n",
      "[CV] .................. C=0.1, score=0.7286582640564941, total=   1.4s\n",
      "[CV] C=0.1 ...........................................................\n",
      "[CV] .................. C=0.1, score=0.7380662705301737, total=   1.5s\n",
      "[CV] C=0.1 ...........................................................\n",
      "[CV] .................. C=0.1, score=0.7292409071314144, total=   1.5s\n",
      "[CV] C=0.1 ...........................................................\n",
      "[CV] .................. C=0.1, score=0.7324387769124626, total=   1.6s\n",
      "[CV] C=0.1 ...........................................................\n",
      "[CV] .................. C=0.1, score=0.7221350810993733, total=   2.3s\n",
      "[CV] C=1 .............................................................\n",
      "[CV] ..................... C=1, score=0.724752414691865, total=   2.4s\n",
      "[CV] C=1 .............................................................\n",
      "[CV] .................... C=1, score=0.7314613296448416, total=   2.9s\n",
      "[CV] C=1 .............................................................\n",
      "[CV] .................... C=1, score=0.7165229378084523, total=   2.2s\n",
      "[CV] C=1 .............................................................\n",
      "[CV] .................... C=1, score=0.7271969814587421, total=   3.3s\n",
      "[CV] C=1 .............................................................\n",
      "[CV] .................... C=1, score=0.7370604037581215, total=   2.5s\n",
      "[CV] C=1 .............................................................\n",
      "[CV] .................... C=1, score=0.7279857608906408, total=   2.6s\n",
      "[CV] C=1 .............................................................\n",
      "[CV] .................... C=1, score=0.7297072925549639, total=   3.2s\n",
      "[CV] C=1 .............................................................\n",
      "[CV] .................... C=1, score=0.7166701701168582, total=   2.5s\n",
      "[CV] C=5 .............................................................\n",
      "[CV] .................... C=5, score=0.7236246959581846, total=   4.0s\n",
      "[CV] C=5 .............................................................\n",
      "[CV] .................... C=5, score=0.7300739109774974, total=   3.4s\n",
      "[CV] C=5 .............................................................\n",
      "[CV] .................... C=5, score=0.7157866508588446, total=   4.6s\n",
      "[CV] C=5 .............................................................\n",
      "[CV] .................... C=5, score=0.7261219554652252, total=   3.8s\n",
      "[CV] C=5 .............................................................\n",
      "[CV] .................... C=5, score=0.7348491905548262, total=   3.4s\n",
      "[CV] C=5 .............................................................\n",
      "[CV] ..................... C=5, score=0.726733908996956, total=   3.3s\n",
      "[CV] C=5 .............................................................\n",
      "[CV] .................... C=5, score=0.7285796846086221, total=   3.5s\n",
      "[CV] C=5 .............................................................\n",
      "[CV] .................... C=5, score=0.7146020347661659, total=   2.9s\n",
      "[CV] C=10 ............................................................\n",
      "[CV] ................... C=10, score=0.7233786396804561, total=   3.9s\n",
      "[CV] C=10 ............................................................\n",
      "[CV] ................... C=10, score=0.7297497565313121, total=   3.5s\n",
      "[CV] C=10 ............................................................\n",
      "[CV] ................... C=10, score=0.7157758300282753, total=   3.7s\n",
      "[CV] C=10 ............................................................\n",
      "[CV] ................... C=10, score=0.7259615248902626, total=   3.8s\n",
      "[CV] C=10 ............................................................\n",
      "[CV] ................... C=10, score=0.7342573381697741, total=   3.7s\n",
      "[CV] C=10 ............................................................\n",
      "[CV] ................... C=10, score=0.7265978995242963, total=   3.7s\n",
      "[CV] C=10 ............................................................\n",
      "[CV] ................... C=10, score=0.7284662649445702, total=   3.7s\n",
      "[CV] C=10 ............................................................\n",
      "[CV] ................... C=10, score=0.7140439964217676, total=   3.9s\n"
     ]
    },
    {
     "name": "stderr",
     "output_type": "stream",
     "text": [
      "[Parallel(n_jobs=1)]: Done  40 out of  40 | elapsed:  1.8min finished\n"
     ]
    },
    {
     "data": {
      "text/plain": [
       "GridSearchCV(cv=<generator object _BaseKFold.split at 0x1142a4e60>,\n",
       "       error_score='raise',\n",
       "       estimator=LogisticRegression(C=1.0, class_weight=None, dual=False, fit_intercept=True,\n",
       "          intercept_scaling=1, max_iter=100, multi_class='ovr', n_jobs=1,\n",
       "          penalty='l2', random_state=None, solver='liblinear', tol=0.0001,\n",
       "          verbose=0, warm_start=False),\n",
       "       fit_params=None, iid=True, n_jobs=1,\n",
       "       param_grid={'C': [0.01, 0.1, 1, 5, 10]}, pre_dispatch='2*n_jobs',\n",
       "       refit=True, return_train_score='warn', scoring='roc_auc', verbose=3)"
      ]
     },
     "execution_count": 398,
     "metadata": {},
     "output_type": "execute_result"
    }
   ],
   "source": [
    "grid_search.fit(X_train_new,Y_train_new)"
   ]
  },
  {
   "cell_type": "code",
   "execution_count": 366,
   "metadata": {
    "collapsed": true
   },
   "outputs": [],
   "source": [
    "log_reg = LogisticRegression(**grid_search.best_params_)"
   ]
  },
  {
   "cell_type": "code",
   "execution_count": 368,
   "metadata": {},
   "outputs": [
    {
     "name": "stdout",
     "output_type": "stream",
     "text": [
      "[CV]  ................................................................\n",
      "[CV] ......................... , score=0.72474206433219, total=   2.1s\n",
      "[CV]  ................................................................\n"
     ]
    },
    {
     "name": "stderr",
     "output_type": "stream",
     "text": [
      "[Parallel(n_jobs=1)]: Done   1 out of   1 | elapsed:    2.1s remaining:    0.0s\n"
     ]
    },
    {
     "name": "stdout",
     "output_type": "stream",
     "text": [
      "[CV] ....................... , score=0.7321016405320085, total=   1.7s\n",
      "[CV]  ................................................................\n"
     ]
    },
    {
     "name": "stderr",
     "output_type": "stream",
     "text": [
      "[Parallel(n_jobs=1)]: Done   2 out of   2 | elapsed:    3.8s remaining:    0.0s\n"
     ]
    },
    {
     "name": "stdout",
     "output_type": "stream",
     "text": [
      "[CV] ....................... , score=0.7180881944738489, total=   2.0s\n",
      "[CV]  ................................................................\n",
      "[CV] ....................... , score=0.7286582640564941, total=   2.0s\n",
      "[CV]  ................................................................\n",
      "[CV] ....................... , score=0.7380662705301737, total=   1.5s\n",
      "[CV]  ................................................................\n",
      "[CV] ....................... , score=0.7292409071314144, total=   2.0s\n",
      "[CV]  ................................................................\n",
      "[CV] ....................... , score=0.7324387769124626, total=   2.2s\n",
      "[CV]  ................................................................\n",
      "[CV] ....................... , score=0.7221350810993733, total=   1.7s\n"
     ]
    },
    {
     "name": "stderr",
     "output_type": "stream",
     "text": [
      "[Parallel(n_jobs=1)]: Done   8 out of   8 | elapsed:   15.4s finished\n"
     ]
    }
   ],
   "source": [
    "myIterator=skf.split(X_train_new,Y_train_new)\n",
    "scores1 = cross_val_score(log_reg,X_train_new,Y_train_new,cv=myIterator,scoring=\"roc_auc\",n_jobs=1,verbose=3)\n"
   ]
  },
  {
   "cell_type": "code",
   "execution_count": 369,
   "metadata": {},
   "outputs": [
    {
     "name": "stdout",
     "output_type": "stream",
     "text": [
      "Log regression val 0.7282\n"
     ]
    }
   ],
   "source": [
    "print(\"Log regression val {:.4f}\".format(scores1.mean()))"
   ]
  },
  {
   "cell_type": "code",
   "execution_count": 401,
   "metadata": {
    "collapsed": true
   },
   "outputs": [],
   "source": [
    "\n",
    "cls = RandomForestClassifier()"
   ]
  },
  {
   "cell_type": "code",
   "execution_count": 402,
   "metadata": {
    "collapsed": true
   },
   "outputs": [],
   "source": [
    "param_grid = {\"max_depth\": list(range(5,40,8)),\n",
    "              \"max_features\": [0.3,0.7,0.9],\n",
    "              \"min_samples_split\": [ 10,20,30],\n",
    "              \"min_samples_leaf\": [10,20,30],\n",
    "              \"criterion\": [\"gini\", \"entropy\"]}\n",
    "\n",
    "# run grid search\n",
    "grid_search = RandomizedSearchCV(cls, param_distributions=param_grid,n_iter=20,cv=3,verbose=3,scoring=\"roc_auc\",n_jobs=8)"
   ]
  },
  {
   "cell_type": "code",
   "execution_count": 403,
   "metadata": {
    "scrolled": true
   },
   "outputs": [
    {
     "name": "stdout",
     "output_type": "stream",
     "text": [
      "Fitting 3 folds for each of 20 candidates, totalling 60 fits\n",
      "[CV] max_depth=29, min_samples_leaf=20, criterion=entropy, min_samples_split=10, max_features=0.3 \n",
      "[CV] max_depth=29, min_samples_leaf=20, criterion=entropy, min_samples_split=10, max_features=0.3 \n",
      "[CV] max_depth=29, min_samples_leaf=20, criterion=entropy, min_samples_split=10, max_features=0.3 \n",
      "[CV] max_depth=13, min_samples_leaf=20, criterion=entropy, min_samples_split=10, max_features=0.9 \n",
      "[CV] max_depth=13, min_samples_leaf=20, criterion=entropy, min_samples_split=10, max_features=0.9 \n",
      "[CV] max_depth=13, min_samples_leaf=20, criterion=entropy, min_samples_split=10, max_features=0.9 \n",
      "[CV] max_depth=29, min_samples_leaf=20, criterion=gini, min_samples_split=20, max_features=0.9 \n",
      "[CV] max_depth=29, min_samples_leaf=20, criterion=gini, min_samples_split=20, max_features=0.9 \n",
      "[CV]  max_depth=29, min_samples_leaf=20, criterion=entropy, min_samples_split=10, max_features=0.3, score=0.7100055832460799, total=  15.8s\n",
      "[CV] max_depth=29, min_samples_leaf=20, criterion=gini, min_samples_split=20, max_features=0.9 \n",
      "[CV]  max_depth=29, min_samples_leaf=20, criterion=entropy, min_samples_split=10, max_features=0.3, score=0.7012341369114102, total=  16.1s\n",
      "[CV]  max_depth=29, min_samples_leaf=20, criterion=entropy, min_samples_split=10, max_features=0.3, score=0.7128678975893153, total=  16.0s\n",
      "[CV] max_depth=21, min_samples_leaf=10, criterion=entropy, min_samples_split=20, max_features=0.7 \n",
      "[CV] max_depth=21, min_samples_leaf=10, criterion=entropy, min_samples_split=20, max_features=0.7 \n",
      "[CV]  max_depth=13, min_samples_leaf=20, criterion=entropy, min_samples_split=10, max_features=0.9, score=0.7098710970211748, total=  39.2s\n",
      "[CV] max_depth=21, min_samples_leaf=10, criterion=entropy, min_samples_split=20, max_features=0.7 \n",
      "[CV]  max_depth=13, min_samples_leaf=20, criterion=entropy, min_samples_split=10, max_features=0.9, score=0.7128848125649108, total=  39.4s\n",
      "[CV] max_depth=29, min_samples_leaf=10, criterion=entropy, min_samples_split=30, max_features=0.9 \n",
      "[CV]  max_depth=13, min_samples_leaf=20, criterion=entropy, min_samples_split=10, max_features=0.9, score=0.7172578519035747, total=  39.5s\n",
      "[CV] max_depth=29, min_samples_leaf=10, criterion=entropy, min_samples_split=30, max_features=0.9 \n",
      "[CV]  max_depth=29, min_samples_leaf=20, criterion=gini, min_samples_split=20, max_features=0.9, score=0.7086972787531218, total=  43.9s\n",
      "[CV] max_depth=29, min_samples_leaf=10, criterion=entropy, min_samples_split=30, max_features=0.9 \n",
      "[CV]  max_depth=29, min_samples_leaf=20, criterion=gini, min_samples_split=20, max_features=0.9, score=0.7048268545269949, total=  43.7s\n",
      "[CV] max_depth=29, min_samples_leaf=10, criterion=entropy, min_samples_split=10, max_features=0.9 \n",
      "[CV]  max_depth=21, min_samples_leaf=10, criterion=entropy, min_samples_split=20, max_features=0.7, score=0.6979074141908409, total=  39.4s\n",
      "[CV]  max_depth=21, min_samples_leaf=10, criterion=entropy, min_samples_split=20, max_features=0.7, score=0.7022394255780691, total=  39.0s\n",
      "[CV] max_depth=29, min_samples_leaf=10, criterion=entropy, min_samples_split=10, max_features=0.9 \n",
      "[CV] max_depth=29, min_samples_leaf=10, criterion=entropy, min_samples_split=10, max_features=0.9 \n",
      "[CV]  max_depth=29, min_samples_leaf=20, criterion=gini, min_samples_split=20, max_features=0.9, score=0.7125964591316629, total=  43.6s\n",
      "[CV] max_depth=29, min_samples_leaf=30, criterion=gini, min_samples_split=10, max_features=0.7 \n",
      "[CV]  max_depth=21, min_samples_leaf=10, criterion=entropy, min_samples_split=20, max_features=0.7, score=0.7026073914810563, total=  39.3s\n",
      "[CV] max_depth=29, min_samples_leaf=30, criterion=gini, min_samples_split=10, max_features=0.7 \n",
      "[CV]  max_depth=29, min_samples_leaf=10, criterion=entropy, min_samples_split=30, max_features=0.9, score=0.705759490856657, total=  50.7s\n",
      "[CV] max_depth=29, min_samples_leaf=30, criterion=gini, min_samples_split=10, max_features=0.7 \n",
      "[CV]  max_depth=29, min_samples_leaf=10, criterion=entropy, min_samples_split=30, max_features=0.9, score=0.7018409956625629, total=  51.6s\n",
      "[CV] max_depth=5, min_samples_leaf=30, criterion=entropy, min_samples_split=30, max_features=0.7 \n",
      "[CV]  max_depth=29, min_samples_leaf=30, criterion=gini, min_samples_split=10, max_features=0.7, score=0.7114247851131789, total=  33.8s\n",
      "[CV] max_depth=5, min_samples_leaf=30, criterion=entropy, min_samples_split=30, max_features=0.7 \n",
      "[CV]  max_depth=29, min_samples_leaf=10, criterion=entropy, min_samples_split=30, max_features=0.9, score=0.7035057534691325, total=  51.8s\n",
      "[CV] max_depth=5, min_samples_leaf=30, criterion=entropy, min_samples_split=30, max_features=0.7 \n"
     ]
    },
    {
     "name": "stderr",
     "output_type": "stream",
     "text": [
      "[Parallel(n_jobs=8)]: Done  16 tasks      | elapsed:  1.7min\n"
     ]
    },
    {
     "name": "stdout",
     "output_type": "stream",
     "text": [
      "[CV]  max_depth=29, min_samples_leaf=10, criterion=entropy, min_samples_split=10, max_features=0.9, score=0.6975466338015197, total=  54.0s\n",
      "[CV] max_depth=29, min_samples_leaf=10, criterion=gini, min_samples_split=10, max_features=0.9 \n",
      "[CV]  max_depth=5, min_samples_leaf=30, criterion=entropy, min_samples_split=30, max_features=0.7, score=0.7047703140698331, total=  17.0s\n",
      "[CV] max_depth=29, min_samples_leaf=10, criterion=gini, min_samples_split=10, max_features=0.9 \n",
      "[CV]  max_depth=29, min_samples_leaf=10, criterion=entropy, min_samples_split=10, max_features=0.9, score=0.6991734301737478, total=  53.7s\n",
      "[CV] max_depth=29, min_samples_leaf=10, criterion=gini, min_samples_split=10, max_features=0.9 \n",
      "[CV]  max_depth=29, min_samples_leaf=10, criterion=entropy, min_samples_split=10, max_features=0.9, score=0.7030199419416515, total=  54.7s\n",
      "[CV]  max_depth=5, min_samples_leaf=30, criterion=entropy, min_samples_split=30, max_features=0.7, score=0.7012266599404806, total=  16.7s\n",
      "[CV] max_depth=37, min_samples_leaf=20, criterion=entropy, min_samples_split=30, max_features=0.3 \n",
      "[CV] max_depth=37, min_samples_leaf=20, criterion=entropy, min_samples_split=30, max_features=0.3 \n",
      "[CV]  max_depth=5, min_samples_leaf=30, criterion=entropy, min_samples_split=30, max_features=0.7, score=0.712586594660885, total=  16.7s\n",
      "[CV] max_depth=37, min_samples_leaf=20, criterion=entropy, min_samples_split=30, max_features=0.3 \n",
      "[CV]  max_depth=29, min_samples_leaf=30, criterion=gini, min_samples_split=10, max_features=0.7, score=0.712326918048164, total=  36.4s\n",
      "[CV] max_depth=21, min_samples_leaf=20, criterion=gini, min_samples_split=20, max_features=0.3 \n",
      "[CV]  max_depth=29, min_samples_leaf=30, criterion=gini, min_samples_split=10, max_features=0.7, score=0.7152128279431724, total=  32.6s\n",
      "[CV] max_depth=21, min_samples_leaf=20, criterion=gini, min_samples_split=20, max_features=0.3 \n",
      "[CV]  max_depth=37, min_samples_leaf=20, criterion=entropy, min_samples_split=30, max_features=0.3, score=0.7065587327315055, total=  14.3s\n",
      "[CV] max_depth=21, min_samples_leaf=20, criterion=gini, min_samples_split=20, max_features=0.3 \n",
      "[CV]  max_depth=37, min_samples_leaf=20, criterion=entropy, min_samples_split=30, max_features=0.3, score=0.7057962802003458, total=  15.2s\n",
      "[CV] max_depth=37, min_samples_leaf=30, criterion=entropy, min_samples_split=20, max_features=0.3 \n",
      "[CV]  max_depth=21, min_samples_leaf=20, criterion=gini, min_samples_split=20, max_features=0.3, score=0.711913037931666, total=  12.0s\n",
      "[CV] max_depth=37, min_samples_leaf=30, criterion=entropy, min_samples_split=20, max_features=0.3 \n",
      "[CV]  max_depth=37, min_samples_leaf=20, criterion=entropy, min_samples_split=30, max_features=0.3, score=0.7134520199092826, total=  14.5s\n",
      "[CV] max_depth=37, min_samples_leaf=30, criterion=entropy, min_samples_split=20, max_features=0.3 \n",
      "[CV]  max_depth=21, min_samples_leaf=20, criterion=gini, min_samples_split=20, max_features=0.3, score=0.7116135951711207, total=  14.6s\n",
      "[CV] max_depth=21, min_samples_leaf=20, criterion=entropy, min_samples_split=30, max_features=0.7 \n",
      "[CV]  max_depth=21, min_samples_leaf=20, criterion=gini, min_samples_split=20, max_features=0.3, score=0.7156681825070096, total=  14.7s\n",
      "[CV] max_depth=21, min_samples_leaf=20, criterion=entropy, min_samples_split=30, max_features=0.7 \n",
      "[CV]  max_depth=37, min_samples_leaf=30, criterion=entropy, min_samples_split=20, max_features=0.3, score=0.7107325367072954, total=  14.8s\n",
      "[CV] max_depth=21, min_samples_leaf=20, criterion=entropy, min_samples_split=30, max_features=0.7 \n",
      "[CV]  max_depth=37, min_samples_leaf=30, criterion=entropy, min_samples_split=20, max_features=0.3, score=0.7148584020508868, total=  14.1s\n",
      "[CV] max_depth=5, min_samples_leaf=30, criterion=gini, min_samples_split=10, max_features=0.9 \n",
      "[CV]  max_depth=37, min_samples_leaf=30, criterion=entropy, min_samples_split=20, max_features=0.3, score=0.7156266060798375, total=  14.1s\n",
      "[CV] max_depth=5, min_samples_leaf=30, criterion=gini, min_samples_split=10, max_features=0.9 \n",
      "[CV]  max_depth=29, min_samples_leaf=10, criterion=gini, min_samples_split=10, max_features=0.9, score=0.7091218780668815, total=  49.7s\n",
      "[CV] max_depth=5, min_samples_leaf=30, criterion=gini, min_samples_split=10, max_features=0.9 \n",
      "[CV]  max_depth=29, min_samples_leaf=10, criterion=gini, min_samples_split=10, max_features=0.9, score=0.699702317305178, total=  46.0s\n",
      "[CV] max_depth=13, min_samples_leaf=20, criterion=entropy, min_samples_split=20, max_features=0.7 \n",
      "[CV]  max_depth=29, min_samples_leaf=10, criterion=gini, min_samples_split=10, max_features=0.9, score=0.7075124168198363, total=  47.7s\n",
      "[CV]  max_depth=5, min_samples_leaf=30, criterion=gini, min_samples_split=10, max_features=0.9, score=0.7000400381868094, total=  15.0s\n",
      "[CV] max_depth=13, min_samples_leaf=20, criterion=entropy, min_samples_split=20, max_features=0.7 \n",
      "[CV] max_depth=13, min_samples_leaf=20, criterion=entropy, min_samples_split=20, max_features=0.7 \n",
      "[CV]  max_depth=5, min_samples_leaf=30, criterion=gini, min_samples_split=10, max_features=0.9, score=0.698077763409054, total=  15.7s\n",
      "[CV] max_depth=29, min_samples_leaf=30, criterion=gini, min_samples_split=20, max_features=0.3 \n",
      "[CV]  max_depth=5, min_samples_leaf=30, criterion=gini, min_samples_split=10, max_features=0.9, score=0.7067493106290731, total=  16.2s\n",
      "[CV] max_depth=29, min_samples_leaf=30, criterion=gini, min_samples_split=20, max_features=0.3 \n",
      "[CV]  max_depth=29, min_samples_leaf=30, criterion=gini, min_samples_split=20, max_features=0.3, score=0.713897975209805, total=  11.4s\n",
      "[CV] max_depth=29, min_samples_leaf=30, criterion=gini, min_samples_split=20, max_features=0.3 \n",
      "[CV]  max_depth=21, min_samples_leaf=20, criterion=entropy, min_samples_split=30, max_features=0.7, score=0.7129750324751976, total=  32.7s\n",
      "[CV] max_depth=21, min_samples_leaf=20, criterion=gini, min_samples_split=30, max_features=0.9 \n",
      "[CV]  max_depth=21, min_samples_leaf=20, criterion=entropy, min_samples_split=30, max_features=0.7, score=0.7162869959859548, total=  31.4s\n",
      "[CV] max_depth=21, min_samples_leaf=20, criterion=gini, min_samples_split=30, max_features=0.9 \n",
      "[CV]  max_depth=21, min_samples_leaf=20, criterion=entropy, min_samples_split=30, max_features=0.7, score=0.7143320696149664, total=  32.4s\n",
      "[CV] max_depth=21, min_samples_leaf=20, criterion=gini, min_samples_split=30, max_features=0.9 \n",
      "[CV]  max_depth=29, min_samples_leaf=30, criterion=gini, min_samples_split=20, max_features=0.3, score=0.7183658292635673, total=  10.1s\n",
      "[CV] max_depth=37, min_samples_leaf=30, criterion=entropy, min_samples_split=20, max_features=0.9 \n",
      "[CV]  max_depth=13, min_samples_leaf=20, criterion=entropy, min_samples_split=20, max_features=0.7, score=0.7082677168480371, total=  26.0s\n",
      "[CV]  max_depth=29, min_samples_leaf=30, criterion=gini, min_samples_split=20, max_features=0.3, score=0.7180688901536891, total=  10.1s\n",
      "[CV] max_depth=37, min_samples_leaf=30, criterion=entropy, min_samples_split=20, max_features=0.9 \n",
      "[CV] max_depth=37, min_samples_leaf=30, criterion=entropy, min_samples_split=20, max_features=0.9 \n",
      "[CV]  max_depth=13, min_samples_leaf=20, criterion=entropy, min_samples_split=20, max_features=0.7, score=0.7089359793958502, total=  25.5s\n",
      "[CV] max_depth=21, min_samples_leaf=30, criterion=entropy, min_samples_split=10, max_features=0.9 \n",
      "[CV]  max_depth=13, min_samples_leaf=20, criterion=entropy, min_samples_split=20, max_features=0.7, score=0.7139994980374669, total=  25.4s\n",
      "[CV] max_depth=21, min_samples_leaf=30, criterion=entropy, min_samples_split=10, max_features=0.9 \n",
      "[CV]  max_depth=21, min_samples_leaf=20, criterion=gini, min_samples_split=30, max_features=0.9, score=0.7054622647202369, total=  35.4s\n",
      "[CV] max_depth=21, min_samples_leaf=30, criterion=entropy, min_samples_split=10, max_features=0.9 \n",
      "[CV]  max_depth=21, min_samples_leaf=20, criterion=gini, min_samples_split=30, max_features=0.9, score=0.7114400368105175, total=  35.6s\n",
      "[CV] max_depth=21, min_samples_leaf=10, criterion=gini, min_samples_split=20, max_features=0.7 \n",
      "[CV]  max_depth=21, min_samples_leaf=20, criterion=gini, min_samples_split=30, max_features=0.9, score=0.7169572172605994, total=  36.2s\n",
      "[CV] max_depth=21, min_samples_leaf=10, criterion=gini, min_samples_split=20, max_features=0.7 \n"
     ]
    },
    {
     "name": "stdout",
     "output_type": "stream",
     "text": [
      "[CV]  max_depth=37, min_samples_leaf=30, criterion=entropy, min_samples_split=20, max_features=0.9, score=0.7053866017445031, total=  37.3s\n",
      "[CV] max_depth=21, min_samples_leaf=10, criterion=gini, min_samples_split=20, max_features=0.7 \n",
      "[CV]  max_depth=37, min_samples_leaf=30, criterion=entropy, min_samples_split=20, max_features=0.9, score=0.7152528816668016, total=  35.0s\n",
      "[CV]  max_depth=37, min_samples_leaf=30, criterion=entropy, min_samples_split=20, max_features=0.9, score=0.7166220408398769, total=  37.4s\n",
      "[CV]  max_depth=21, min_samples_leaf=30, criterion=entropy, min_samples_split=10, max_features=0.9, score=0.7055920199414123, total=  37.2s\n",
      "[CV]  max_depth=21, min_samples_leaf=30, criterion=entropy, min_samples_split=10, max_features=0.9, score=0.7065368311617916, total=  37.0s\n",
      "[CV]  max_depth=21, min_samples_leaf=10, criterion=gini, min_samples_split=20, max_features=0.7, score=0.7010828109599425, total=  23.9s\n",
      "[CV]  max_depth=21, min_samples_leaf=10, criterion=gini, min_samples_split=20, max_features=0.7, score=0.6984761602406182, total=  23.5s\n",
      "[CV]  max_depth=21, min_samples_leaf=30, criterion=entropy, min_samples_split=10, max_features=0.9, score=0.7117539075386603, total=  26.0s\n",
      "[CV]  max_depth=21, min_samples_leaf=10, criterion=gini, min_samples_split=20, max_features=0.7, score=0.6992894866655196, total=  20.4s\n"
     ]
    },
    {
     "name": "stderr",
     "output_type": "stream",
     "text": [
      "[Parallel(n_jobs=8)]: Done  60 out of  60 | elapsed:  4.0min finished\n"
     ]
    },
    {
     "data": {
      "text/plain": [
       "RandomizedSearchCV(cv=3, error_score='raise',\n",
       "          estimator=RandomForestClassifier(bootstrap=True, class_weight=None, criterion='gini',\n",
       "            max_depth=None, max_features='auto', max_leaf_nodes=None,\n",
       "            min_impurity_decrease=0.0, min_impurity_split=None,\n",
       "            min_samples_leaf=1, min_samples_split=2,\n",
       "            min_weight_fraction_leaf=0.0, n_estimators=10, n_jobs=1,\n",
       "            oob_score=False, random_state=None, verbose=0,\n",
       "            warm_start=False),\n",
       "          fit_params=None, iid=True, n_iter=20, n_jobs=8,\n",
       "          param_distributions={'max_depth': [5, 13, 21, 29, 37], 'min_samples_split': [10, 20, 30], 'criterion': ['gini', 'entropy'], 'min_samples_leaf': [10, 20, 30], 'max_features': [0.3, 0.7, 0.9]},\n",
       "          pre_dispatch='2*n_jobs', random_state=None, refit=True,\n",
       "          return_train_score='warn', scoring='roc_auc', verbose=3)"
      ]
     },
     "execution_count": 403,
     "metadata": {},
     "output_type": "execute_result"
    }
   ],
   "source": [
    "grid_search.fit(X_train_new,Y_train_new)"
   ]
  },
  {
   "cell_type": "code",
   "execution_count": 406,
   "metadata": {},
   "outputs": [
    {
     "data": {
      "text/plain": [
       "0.7167775225371534"
      ]
     },
     "execution_count": 406,
     "metadata": {},
     "output_type": "execute_result"
    }
   ],
   "source": [
    "grid_search.best_score_"
   ]
  },
  {
   "cell_type": "code",
   "execution_count": 407,
   "metadata": {
    "collapsed": true
   },
   "outputs": [],
   "source": [
    "best_rf = RandomForestClassifier(**grid_search.best_params_)"
   ]
  },
  {
   "cell_type": "code",
   "execution_count": 409,
   "metadata": {
    "scrolled": false
   },
   "outputs": [
    {
     "name": "stdout",
     "output_type": "stream",
     "text": [
      "[CV]  ................................................................\n",
      "[CV]  ................................................................\n",
      "[CV]  ................................................................\n",
      "[CV]  ................................................................\n",
      "[CV]  ................................................................\n",
      "[CV]  ................................................................\n",
      "[CV]  ................................................................\n",
      "[CV]  ................................................................\n",
      "[CV] ........................ , score=0.722588719048896, total=  21.2s\n",
      "[CV] ....................... , score=0.7056816417552328, total=  21.2s\n"
     ]
    },
    {
     "name": "stderr",
     "output_type": "stream",
     "text": [
      "[Parallel(n_jobs=8)]: Done   2 out of   8 | elapsed:   22.6s remaining:  1.1min\n"
     ]
    },
    {
     "name": "stdout",
     "output_type": "stream",
     "text": [
      "[CV] ....................... , score=0.7047112955357017, total=  21.0s\n",
      "[CV] ....................... , score=0.7056654105093788, total=  21.3s\n",
      "[CV] ....................... , score=0.7318409996565562, total=  20.6s\n"
     ]
    },
    {
     "name": "stderr",
     "output_type": "stream",
     "text": [
      "[Parallel(n_jobs=8)]: Done   5 out of   8 | elapsed:   23.3s remaining:   14.0s\n"
     ]
    },
    {
     "name": "stdout",
     "output_type": "stream",
     "text": [
      "[CV] ....................... , score=0.7171162979821655, total=  19.8s\n",
      "[CV] ....................... , score=0.7237718203432522, total=  20.5s\n",
      "[CV] ....................... , score=0.7265171431830244, total=  19.5s\n"
     ]
    },
    {
     "name": "stderr",
     "output_type": "stream",
     "text": [
      "[Parallel(n_jobs=8)]: Done   8 out of   8 | elapsed:   24.0s remaining:    0.0s\n",
      "[Parallel(n_jobs=8)]: Done   8 out of   8 | elapsed:   24.0s finished\n"
     ]
    }
   ],
   "source": [
    "myIterator=skf.split(X_train_new,Y_train_new)\n",
    "scores2 = cross_val_score(best_rf,X_train_new,Y_train_new ,cv=myIterator,scoring=\"roc_auc\",verbose=3,n_jobs=8)"
   ]
  },
  {
   "cell_type": "code",
   "execution_count": 410,
   "metadata": {},
   "outputs": [
    {
     "name": "stdout",
     "output_type": "stream",
     "text": [
      "RF  val 0.7172\n"
     ]
    }
   ],
   "source": [
    "print(\"RF  val {:.4f}\".format(scores2.mean()))"
   ]
  },
  {
   "cell_type": "code",
   "execution_count": 411,
   "metadata": {
    "scrolled": false
   },
   "outputs": [
    {
     "data": {
      "text/plain": [
       "RandomForestClassifier(bootstrap=True, class_weight=None, criterion='gini',\n",
       "            max_depth=29, max_features=0.3, max_leaf_nodes=None,\n",
       "            min_impurity_decrease=0.0, min_impurity_split=None,\n",
       "            min_samples_leaf=30, min_samples_split=20,\n",
       "            min_weight_fraction_leaf=0.0, n_estimators=10, n_jobs=1,\n",
       "            oob_score=False, random_state=None, verbose=0,\n",
       "            warm_start=False)"
      ]
     },
     "execution_count": 411,
     "metadata": {},
     "output_type": "execute_result"
    }
   ],
   "source": [
    "best_rf.fit(X_train_new,Y_train_new)"
   ]
  },
  {
   "cell_type": "code",
   "execution_count": 49,
   "metadata": {
    "collapsed": true
   },
   "outputs": [],
   "source": [
    "X_test = test.drop([\"0\"],axis=1)"
   ]
  },
  {
   "cell_type": "code",
   "execution_count": null,
   "metadata": {
    "collapsed": true
   },
   "outputs": [],
   "source": []
  },
  {
   "cell_type": "code",
   "execution_count": 46,
   "metadata": {
    "collapsed": true
   },
   "outputs": [],
   "source": [
    "def submit(vals,ID):\n",
    "    test[\"id\"] = test.index\n",
    "    submission = pd.DataFrame.from_dict({'_ID_': test['id']})\n",
    "    submission[\"_VAL_\"]=vals[:,1]\n",
    "    name = \"submission\"+str(ID)+\".csv\"\n",
    "    submission.to_csv(name,index=False)\n",
    "    return  pd.read_csv(name)"
   ]
  },
  {
   "cell_type": "code",
   "execution_count": null,
   "metadata": {
    "collapsed": true
   },
   "outputs": [],
   "source": []
  },
  {
   "cell_type": "code",
   "execution_count": 417,
   "metadata": {
    "collapsed": true
   },
   "outputs": [],
   "source": [
    "from sklearn.ensemble import BaggingClassifier"
   ]
  },
  {
   "cell_type": "code",
   "execution_count": 428,
   "metadata": {},
   "outputs": [
    {
     "name": "stdout",
     "output_type": "stream",
     "text": [
      "Building estimator 1 of 7 for this parallel run (total 50)...\n",
      "Building estimator 1 of 7 for this parallel run (total 50)...\n",
      "Building estimator 1 of 6 for this parallel run (total 50)...\n",
      "Building estimator 1 of 6 for this parallel run (total 50)...\n",
      "Building estimator 1 of 6 for this parallel run (total 50)...\n",
      "Building estimator 1 of 6 for this parallel run (total 50)...\n",
      "Building estimator 1 of 6 for this parallel run (total 50)...\n",
      "Building estimator 1 of 6 for this parallel run (total 50)...\n",
      "Building estimator 2 of 6 for this parallel run (total 50)...\n",
      "Building estimator 2 of 7 for this parallel run (total 50)...\n",
      "Building estimator 2 of 6 for this parallel run (total 50)...\n",
      "Building estimator 2 of 7 for this parallel run (total 50)...\n",
      "Building estimator 2 of 6 for this parallel run (total 50)...\n",
      "Building estimator 2 of 6 for this parallel run (total 50)...\n",
      "Building estimator 2 of 6 for this parallel run (total 50)...\n",
      "Building estimator 2 of 6 for this parallel run (total 50)...\n",
      "Building estimator 3 of 6 for this parallel run (total 50)...\n",
      "Building estimator 3 of 6 for this parallel run (total 50)...\n",
      "Building estimator 3 of 6 for this parallel run (total 50)...\n",
      "Building estimator 3 of 7 for this parallel run (total 50)...\n",
      "Building estimator 3 of 6 for this parallel run (total 50)...\n",
      "Building estimator 3 of 6 for this parallel run (total 50)...\n",
      "Building estimator 3 of 7 for this parallel run (total 50)...\n",
      "Building estimator 3 of 6 for this parallel run (total 50)...\n",
      "Building estimator 4 of 6 for this parallel run (total 50)...\n",
      "Building estimator 4 of 6 for this parallel run (total 50)...\n",
      "Building estimator 4 of 7 for this parallel run (total 50)...\n",
      "Building estimator 4 of 6 for this parallel run (total 50)...\n",
      "Building estimator 4 of 6 for this parallel run (total 50)...\n",
      "Building estimator 4 of 6 for this parallel run (total 50)...\n",
      "Building estimator 4 of 6 for this parallel run (total 50)...\n",
      "Building estimator 4 of 7 for this parallel run (total 50)...\n",
      "Building estimator 5 of 6 for this parallel run (total 50)...\n",
      "Building estimator 5 of 6 for this parallel run (total 50)...\n",
      "Building estimator 5 of 6 for this parallel run (total 50)...\n",
      "Building estimator 5 of 6 for this parallel run (total 50)...\n",
      "Building estimator 5 of 6 for this parallel run (total 50)...\n",
      "Building estimator 5 of 7 for this parallel run (total 50)...\n",
      "Building estimator 5 of 6 for this parallel run (total 50)...\n",
      "Building estimator 5 of 7 for this parallel run (total 50)...\n",
      "Building estimator 6 of 6 for this parallel run (total 50)...\n",
      "Building estimator 6 of 6 for this parallel run (total 50)...\n",
      "Building estimator 6 of 6 for this parallel run (total 50)...\n",
      "Building estimator 6 of 7 for this parallel run (total 50)...\n",
      "Building estimator 6 of 6 for this parallel run (total 50)...\n",
      "Building estimator 6 of 6 for this parallel run (total 50)...\n",
      "Building estimator 6 of 6 for this parallel run (total 50)...\n",
      "Building estimator 6 of 7 for this parallel run (total 50)...\n"
     ]
    },
    {
     "name": "stderr",
     "output_type": "stream",
     "text": [
      "[Parallel(n_jobs=8)]: Done   2 out of   8 | elapsed:  1.3min remaining:  4.0min\n"
     ]
    },
    {
     "name": "stdout",
     "output_type": "stream",
     "text": [
      "Building estimator 7 of 7 for this parallel run (total 50)...\n"
     ]
    },
    {
     "name": "stderr",
     "output_type": "stream",
     "text": [
      "[Parallel(n_jobs=8)]: Done   5 out of   8 | elapsed:  1.4min remaining:   49.1s\n"
     ]
    },
    {
     "name": "stdout",
     "output_type": "stream",
     "text": [
      "Building estimator 7 of 7 for this parallel run (total 50)...\n"
     ]
    },
    {
     "name": "stderr",
     "output_type": "stream",
     "text": [
      "[Parallel(n_jobs=8)]: Done   8 out of   8 | elapsed:  1.4min remaining:    0.0s\n",
      "[Parallel(n_jobs=8)]: Done   8 out of   8 | elapsed:  1.4min finished\n"
     ]
    },
    {
     "data": {
      "text/plain": [
       "BaggingClassifier(base_estimator=LogisticRegression(C=1.0, class_weight=None, dual=False, fit_intercept=True,\n",
       "          intercept_scaling=1, max_iter=100, multi_class='ovr', n_jobs=1,\n",
       "          penalty='l2', random_state=None, solver='liblinear', tol=0.0001,\n",
       "          verbose=0, warm_start=False),\n",
       "         bootstrap=True, bootstrap_features=True, max_features=1.0,\n",
       "         max_samples=1.0, n_estimators=50, n_jobs=8, oob_score=True,\n",
       "         random_state=None, verbose=3, warm_start=False)"
      ]
     },
     "execution_count": 428,
     "metadata": {},
     "output_type": "execute_result"
    }
   ],
   "source": [
    "clas = BaggingClassifier(log_reg,n_estimators=50,oob_score=True,bootstrap_features=True,n_jobs=8,verbose=3)\n",
    "clas.fit(X_train_new,Y_train_new)"
   ]
  },
  {
   "cell_type": "code",
   "execution_count": 424,
   "metadata": {
    "collapsed": true
   },
   "outputs": [],
   "source": [
    "vals= np.c_[clas.oob_decision_function_,Y_train_new]"
   ]
  },
  {
   "cell_type": "code",
   "execution_count": 425,
   "metadata": {
    "collapsed": true
   },
   "outputs": [],
   "source": [
    "vals = vals[~np.isnan(vals[:,1])]"
   ]
  },
  {
   "cell_type": "code",
   "execution_count": 426,
   "metadata": {
    "collapsed": true
   },
   "outputs": [],
   "source": [
    "preds,true = vals[:,1],vals[:,2]"
   ]
  },
  {
   "cell_type": "code",
   "execution_count": 429,
   "metadata": {},
   "outputs": [
    {
     "data": {
      "text/plain": [
       "0.7250284208539598"
      ]
     },
     "execution_count": 429,
     "metadata": {},
     "output_type": "execute_result"
    }
   ],
   "source": [
    "from sklearn.metrics import roc_auc_score\n",
    "roc_auc_score(Y_train_new,clas.oob_decision_function_[:,1])"
   ]
  },
  {
   "cell_type": "markdown",
   "metadata": {},
   "source": [
    "Ensembles of models"
   ]
  },
  {
   "cell_type": "code",
   "execution_count": 430,
   "metadata": {
    "collapsed": true
   },
   "outputs": [],
   "source": [
    "from sklearn.ensemble import VotingClassifier\n",
    "from sklearn.svm import SVC\n",
    "from sklearn.ensemble import AdaBoostClassifier,ExtraTreesClassifier"
   ]
  },
  {
   "cell_type": "code",
   "execution_count": 434,
   "metadata": {
    "collapsed": true
   },
   "outputs": [],
   "source": [
    "extree = ExtraTreesClassifier()\n",
    "rand_search = RandomizedSearchCV(extree,param_distributions=param_grid,scoring=\"roc_auc\",cv=myIterator,n_jobs=8,verbose=3)"
   ]
  },
  {
   "cell_type": "code",
   "execution_count": 435,
   "metadata": {
    "scrolled": true
   },
   "outputs": [
    {
     "name": "stdout",
     "output_type": "stream",
     "text": [
      "Fitting 8 folds for each of 10 candidates, totalling 80 fits\n",
      "[CV] max_depth=37, min_samples_leaf=10, criterion=entropy, min_samples_split=20, max_features=0.3 \n",
      "[CV] max_depth=37, min_samples_leaf=10, criterion=entropy, min_samples_split=20, max_features=0.3 \n",
      "[CV] max_depth=37, min_samples_leaf=10, criterion=entropy, min_samples_split=20, max_features=0.3 \n",
      "[CV] max_depth=37, min_samples_leaf=10, criterion=entropy, min_samples_split=20, max_features=0.3 \n",
      "[CV] max_depth=37, min_samples_leaf=10, criterion=entropy, min_samples_split=20, max_features=0.3 \n",
      "[CV] max_depth=37, min_samples_leaf=10, criterion=entropy, min_samples_split=20, max_features=0.3 \n",
      "[CV] max_depth=37, min_samples_leaf=10, criterion=entropy, min_samples_split=20, max_features=0.3 \n",
      "[CV] max_depth=37, min_samples_leaf=10, criterion=entropy, min_samples_split=20, max_features=0.3 \n",
      "[CV]  max_depth=37, min_samples_leaf=10, criterion=entropy, min_samples_split=20, max_features=0.3, score=0.7173293249213136, total=  19.7s\n",
      "[CV] max_depth=21, min_samples_leaf=10, criterion=entropy, min_samples_split=30, max_features=0.9 \n",
      "[CV]  max_depth=37, min_samples_leaf=10, criterion=entropy, min_samples_split=20, max_features=0.3, score=0.7241405672938044, total=  20.9s\n",
      "[CV] max_depth=21, min_samples_leaf=10, criterion=entropy, min_samples_split=30, max_features=0.9 \n",
      "[CV]  max_depth=37, min_samples_leaf=10, criterion=entropy, min_samples_split=20, max_features=0.3, score=0.7179973935912456, total=  20.9s\n",
      "[CV] max_depth=21, min_samples_leaf=10, criterion=entropy, min_samples_split=30, max_features=0.9 \n",
      "[CV]  max_depth=37, min_samples_leaf=10, criterion=entropy, min_samples_split=20, max_features=0.3, score=0.7187452070777641, total=  21.6s\n",
      "[CV]  max_depth=37, min_samples_leaf=10, criterion=entropy, min_samples_split=20, max_features=0.3, score=0.7430777264964503, total=  21.2s\n",
      "[CV] max_depth=21, min_samples_leaf=10, criterion=entropy, min_samples_split=30, max_features=0.9 \n",
      "[CV]  max_depth=37, min_samples_leaf=10, criterion=entropy, min_samples_split=20, max_features=0.3, score=0.7224230205209587, total=  21.3s\n",
      "[CV] max_depth=21, min_samples_leaf=10, criterion=entropy, min_samples_split=30, max_features=0.9 \n",
      "[CV]  max_depth=37, min_samples_leaf=10, criterion=entropy, min_samples_split=20, max_features=0.3, score=0.7299513095500298, total=  21.5s\n",
      "[CV] max_depth=21, min_samples_leaf=10, criterion=entropy, min_samples_split=30, max_features=0.9 \n",
      "[CV]  max_depth=37, min_samples_leaf=10, criterion=entropy, min_samples_split=20, max_features=0.3, score=0.7260340441095376, total=  21.3s\n",
      "[CV] max_depth=21, min_samples_leaf=10, criterion=entropy, min_samples_split=30, max_features=0.9 \n",
      "[CV] max_depth=21, min_samples_leaf=10, criterion=entropy, min_samples_split=30, max_features=0.9 \n",
      "[CV]  max_depth=21, min_samples_leaf=10, criterion=entropy, min_samples_split=30, max_features=0.9, score=0.7122950511166627, total= 1.2min\n",
      "[CV]  max_depth=21, min_samples_leaf=10, criterion=entropy, min_samples_split=30, max_features=0.9, score=0.723199390269721, total= 1.1min\n",
      "[CV] max_depth=5, min_samples_leaf=30, criterion=entropy, min_samples_split=10, max_features=0.3 \n",
      "[CV] max_depth=5, min_samples_leaf=30, criterion=entropy, min_samples_split=10, max_features=0.3 \n",
      "[CV]  max_depth=21, min_samples_leaf=10, criterion=entropy, min_samples_split=30, max_features=0.9, score=0.7026061735190753, total= 1.2min\n",
      "[CV]  max_depth=21, min_samples_leaf=10, criterion=entropy, min_samples_split=30, max_features=0.9, score=0.7383254999929428, total= 1.1min\n",
      "[CV] max_depth=5, min_samples_leaf=30, criterion=entropy, min_samples_split=10, max_features=0.3 \n",
      "[CV] max_depth=5, min_samples_leaf=30, criterion=entropy, min_samples_split=10, max_features=0.3 \n",
      "[CV]  max_depth=21, min_samples_leaf=10, criterion=entropy, min_samples_split=30, max_features=0.9, score=0.7214367710641582, total= 1.2min\n",
      "[CV] max_depth=5, min_samples_leaf=30, criterion=entropy, min_samples_split=10, max_features=0.3 \n",
      "[CV]  max_depth=21, min_samples_leaf=10, criterion=entropy, min_samples_split=30, max_features=0.9, score=0.7155084212924007, total= 1.2min\n",
      "[CV] max_depth=5, min_samples_leaf=30, criterion=entropy, min_samples_split=10, max_features=0.3 \n",
      "[CV]  max_depth=21, min_samples_leaf=10, criterion=entropy, min_samples_split=30, max_features=0.9, score=0.7164474732268851, total= 1.1min\n",
      "[CV] max_depth=5, min_samples_leaf=30, criterion=entropy, min_samples_split=10, max_features=0.3 \n",
      "[CV]  max_depth=21, min_samples_leaf=10, criterion=entropy, min_samples_split=30, max_features=0.9, score=0.727017693467592, total= 1.2min\n",
      "[CV] max_depth=5, min_samples_leaf=30, criterion=entropy, min_samples_split=10, max_features=0.3 \n"
     ]
    },
    {
     "name": "stderr",
     "output_type": "stream",
     "text": [
      "[Parallel(n_jobs=8)]: Done  16 tasks      | elapsed:  1.6min\n"
     ]
    },
    {
     "name": "stdout",
     "output_type": "stream",
     "text": [
      "[CV]  max_depth=5, min_samples_leaf=30, criterion=entropy, min_samples_split=10, max_features=0.3, score=0.6891269471614139, total=   7.2s\n",
      "[CV] max_depth=5, min_samples_leaf=10, criterion=entropy, min_samples_split=10, max_features=0.9 \n",
      "[CV]  max_depth=5, min_samples_leaf=30, criterion=entropy, min_samples_split=10, max_features=0.3, score=0.7073772188583553, total=   7.1s\n",
      "[CV] max_depth=5, min_samples_leaf=10, criterion=entropy, min_samples_split=10, max_features=0.9 \n",
      "[CV]  max_depth=5, min_samples_leaf=30, criterion=entropy, min_samples_split=10, max_features=0.3, score=0.6937020413732105, total=   6.9s\n",
      "[CV] max_depth=5, min_samples_leaf=10, criterion=entropy, min_samples_split=10, max_features=0.9 \n",
      "[CV]  max_depth=5, min_samples_leaf=30, criterion=entropy, min_samples_split=10, max_features=0.3, score=0.702977139819245, total=   6.8s\n",
      "[CV] max_depth=5, min_samples_leaf=10, criterion=entropy, min_samples_split=10, max_features=0.9 \n",
      "[CV]  max_depth=5, min_samples_leaf=30, criterion=entropy, min_samples_split=10, max_features=0.3, score=0.7106618114070373, total=   6.4s\n",
      "[CV] max_depth=5, min_samples_leaf=10, criterion=entropy, min_samples_split=10, max_features=0.9 \n",
      "[CV]  max_depth=5, min_samples_leaf=30, criterion=entropy, min_samples_split=10, max_features=0.3, score=0.687373049981834, total=   6.7s\n",
      "[CV] max_depth=5, min_samples_leaf=10, criterion=entropy, min_samples_split=10, max_features=0.9 \n",
      "[CV]  max_depth=5, min_samples_leaf=30, criterion=entropy, min_samples_split=10, max_features=0.3, score=0.6963837952007953, total=   6.6s\n",
      "[CV] max_depth=5, min_samples_leaf=10, criterion=entropy, min_samples_split=10, max_features=0.9 \n",
      "[CV]  max_depth=5, min_samples_leaf=30, criterion=entropy, min_samples_split=10, max_features=0.3, score=0.7075311139369134, total=   6.6s\n",
      "[CV] max_depth=5, min_samples_leaf=10, criterion=entropy, min_samples_split=10, max_features=0.9 \n",
      "[CV]  max_depth=5, min_samples_leaf=10, criterion=entropy, min_samples_split=10, max_features=0.9, score=0.6960313427709794, total=  14.7s\n",
      "[CV] max_depth=5, min_samples_leaf=20, criterion=entropy, min_samples_split=10, max_features=0.9 \n",
      "[CV]  max_depth=5, min_samples_leaf=10, criterion=entropy, min_samples_split=10, max_features=0.9, score=0.6894663919116644, total=  15.2s\n",
      "[CV] max_depth=5, min_samples_leaf=20, criterion=entropy, min_samples_split=10, max_features=0.9 \n",
      "[CV]  max_depth=5, min_samples_leaf=10, criterion=entropy, min_samples_split=10, max_features=0.9, score=0.6954470179202363, total=  15.0s\n",
      "[CV] max_depth=5, min_samples_leaf=20, criterion=entropy, min_samples_split=10, max_features=0.9 \n",
      "[CV]  max_depth=5, min_samples_leaf=10, criterion=entropy, min_samples_split=10, max_features=0.9, score=0.6990421212591683, total=  15.0s\n",
      "[CV] max_depth=5, min_samples_leaf=20, criterion=entropy, min_samples_split=10, max_features=0.9 \n",
      "[CV]  max_depth=5, min_samples_leaf=10, criterion=entropy, min_samples_split=10, max_features=0.9, score=0.7105201996678475, total=  15.2s\n",
      "[CV] max_depth=5, min_samples_leaf=20, criterion=entropy, min_samples_split=10, max_features=0.9 \n",
      "[CV]  max_depth=5, min_samples_leaf=10, criterion=entropy, min_samples_split=10, max_features=0.9, score=0.6890112817269155, total=  14.7s\n",
      "[CV] max_depth=5, min_samples_leaf=20, criterion=entropy, min_samples_split=10, max_features=0.9 \n",
      "[CV]  max_depth=5, min_samples_leaf=10, criterion=entropy, min_samples_split=10, max_features=0.9, score=0.7008106917564141, total=  15.0s\n",
      "[CV] max_depth=5, min_samples_leaf=20, criterion=entropy, min_samples_split=10, max_features=0.9 \n",
      "[CV]  max_depth=5, min_samples_leaf=10, criterion=entropy, min_samples_split=10, max_features=0.9, score=0.7101181683899557, total=  14.8s\n",
      "[CV] max_depth=5, min_samples_leaf=20, criterion=entropy, min_samples_split=10, max_features=0.9 \n",
      "[CV]  max_depth=5, min_samples_leaf=20, criterion=entropy, min_samples_split=10, max_features=0.9, score=0.6943162411257429, total=  12.6s\n",
      "[CV] max_depth=37, min_samples_leaf=20, criterion=gini, min_samples_split=30, max_features=0.7 \n",
      "[CV]  max_depth=5, min_samples_leaf=20, criterion=entropy, min_samples_split=10, max_features=0.9, score=0.6879613555207408, total=  13.1s\n",
      "[CV] max_depth=37, min_samples_leaf=20, criterion=gini, min_samples_split=30, max_features=0.7 \n",
      "[CV]  max_depth=5, min_samples_leaf=20, criterion=entropy, min_samples_split=10, max_features=0.9, score=0.6864276204052636, total=  12.4s\n",
      "[CV] max_depth=37, min_samples_leaf=20, criterion=gini, min_samples_split=30, max_features=0.7 \n",
      "[CV]  max_depth=5, min_samples_leaf=20, criterion=entropy, min_samples_split=10, max_features=0.9, score=0.6975081509082441, total=  12.6s\n",
      "[CV] max_depth=37, min_samples_leaf=20, criterion=gini, min_samples_split=30, max_features=0.7 \n",
      "[CV]  max_depth=5, min_samples_leaf=20, criterion=entropy, min_samples_split=10, max_features=0.9, score=0.7030853481249383, total=  12.4s\n",
      "[CV] max_depth=37, min_samples_leaf=20, criterion=gini, min_samples_split=30, max_features=0.7 \n",
      "[CV]  max_depth=5, min_samples_leaf=20, criterion=entropy, min_samples_split=10, max_features=0.9, score=0.6885079525538719, total=  12.4s\n",
      "[CV] max_depth=37, min_samples_leaf=20, criterion=gini, min_samples_split=30, max_features=0.7 \n",
      "[CV]  max_depth=5, min_samples_leaf=20, criterion=entropy, min_samples_split=10, max_features=0.9, score=0.6976580015925814, total=  12.3s\n",
      "[CV] max_depth=37, min_samples_leaf=20, criterion=gini, min_samples_split=30, max_features=0.7 \n",
      "[CV]  max_depth=5, min_samples_leaf=20, criterion=entropy, min_samples_split=10, max_features=0.9, score=0.7060313858863432, total=  12.1s\n",
      "[CV] max_depth=37, min_samples_leaf=20, criterion=gini, min_samples_split=30, max_features=0.7 \n",
      "[CV]  max_depth=37, min_samples_leaf=20, criterion=gini, min_samples_split=30, max_features=0.7, score=0.7131562480887119, total=  46.9s\n",
      "[CV] max_depth=5, min_samples_leaf=30, criterion=entropy, min_samples_split=20, max_features=0.9 \n",
      "[CV]  max_depth=37, min_samples_leaf=20, criterion=gini, min_samples_split=30, max_features=0.7, score=0.7252181808772401, total=  48.9s\n",
      "[CV] max_depth=5, min_samples_leaf=30, criterion=entropy, min_samples_split=20, max_features=0.9 \n",
      "[CV]  max_depth=37, min_samples_leaf=20, criterion=gini, min_samples_split=30, max_features=0.7, score=0.7201135716738883, total=  48.8s\n",
      "[CV] max_depth=5, min_samples_leaf=30, criterion=entropy, min_samples_split=20, max_features=0.9 \n",
      "[CV]  max_depth=37, min_samples_leaf=20, criterion=gini, min_samples_split=30, max_features=0.7, score=0.7256872403588752, total=  50.2s\n",
      "[CV]  max_depth=37, min_samples_leaf=20, criterion=gini, min_samples_split=30, max_features=0.7, score=0.7398794653568757, total=  48.8s\n",
      "[CV] max_depth=5, min_samples_leaf=30, criterion=entropy, min_samples_split=20, max_features=0.9 \n",
      "[CV] max_depth=5, min_samples_leaf=30, criterion=entropy, min_samples_split=20, max_features=0.9 \n",
      "[CV]  max_depth=37, min_samples_leaf=20, criterion=gini, min_samples_split=30, max_features=0.7, score=0.7142996312213744, total=  49.5s\n",
      "[CV] max_depth=5, min_samples_leaf=30, criterion=entropy, min_samples_split=20, max_features=0.9 \n",
      "[CV]  max_depth=37, min_samples_leaf=20, criterion=gini, min_samples_split=30, max_features=0.7, score=0.7226091511314671, total=  50.5s\n",
      "[CV] max_depth=5, min_samples_leaf=30, criterion=entropy, min_samples_split=20, max_features=0.9 \n",
      "[CV]  max_depth=37, min_samples_leaf=20, criterion=gini, min_samples_split=30, max_features=0.7, score=0.7299695341228193, total=  50.6s\n",
      "[CV] max_depth=5, min_samples_leaf=30, criterion=entropy, min_samples_split=20, max_features=0.9 \n",
      "[CV]  max_depth=5, min_samples_leaf=30, criterion=entropy, min_samples_split=20, max_features=0.9, score=0.6861366341571279, total=  17.6s\n",
      "[CV] max_depth=29, min_samples_leaf=20, criterion=entropy, min_samples_split=10, max_features=0.9 \n",
      "[CV]  max_depth=5, min_samples_leaf=30, criterion=entropy, min_samples_split=20, max_features=0.9, score=0.7025238411125696, total=  17.0s\n",
      "[CV] max_depth=29, min_samples_leaf=20, criterion=entropy, min_samples_split=10, max_features=0.9 \n",
      "[CV]  max_depth=5, min_samples_leaf=30, criterion=entropy, min_samples_split=20, max_features=0.9, score=0.6873685621938997, total=  17.2s\n",
      "[CV] max_depth=29, min_samples_leaf=20, criterion=entropy, min_samples_split=10, max_features=0.9 \n"
     ]
    },
    {
     "name": "stdout",
     "output_type": "stream",
     "text": [
      "[CV]  max_depth=5, min_samples_leaf=30, criterion=entropy, min_samples_split=20, max_features=0.9, score=0.7015050363909235, total=  17.3s\n",
      "[CV] max_depth=29, min_samples_leaf=20, criterion=entropy, min_samples_split=10, max_features=0.9 \n",
      "[CV]  max_depth=5, min_samples_leaf=30, criterion=entropy, min_samples_split=20, max_features=0.9, score=0.7011112522523795, total=  17.2s\n",
      "[CV] max_depth=29, min_samples_leaf=20, criterion=entropy, min_samples_split=10, max_features=0.9 \n",
      "[CV]  max_depth=5, min_samples_leaf=30, criterion=entropy, min_samples_split=20, max_features=0.9, score=0.6849801774429466, total=  16.6s\n",
      "[CV] max_depth=29, min_samples_leaf=20, criterion=entropy, min_samples_split=10, max_features=0.9 \n",
      "[CV]  max_depth=5, min_samples_leaf=30, criterion=entropy, min_samples_split=20, max_features=0.9, score=0.6999471021981767, total=  16.3s\n",
      "[CV] max_depth=29, min_samples_leaf=20, criterion=entropy, min_samples_split=10, max_features=0.9 \n",
      "[CV]  max_depth=5, min_samples_leaf=30, criterion=entropy, min_samples_split=20, max_features=0.9, score=0.7008659963293897, total=  16.2s\n",
      "[CV] max_depth=29, min_samples_leaf=20, criterion=entropy, min_samples_split=10, max_features=0.9 \n",
      "[CV]  max_depth=29, min_samples_leaf=20, criterion=entropy, min_samples_split=10, max_features=0.9, score=0.7219086533711592, total=  59.5s\n",
      "[CV] max_depth=5, min_samples_leaf=10, criterion=entropy, min_samples_split=30, max_features=0.9 \n",
      "[CV]  max_depth=29, min_samples_leaf=20, criterion=entropy, min_samples_split=10, max_features=0.9, score=0.7076432701490923, total=  57.6s\n",
      "[CV] max_depth=5, min_samples_leaf=10, criterion=entropy, min_samples_split=30, max_features=0.9 \n",
      "[CV]  max_depth=29, min_samples_leaf=20, criterion=entropy, min_samples_split=10, max_features=0.9, score=0.7351018334250751, total=  57.6s\n",
      "[CV] max_depth=5, min_samples_leaf=10, criterion=entropy, min_samples_split=30, max_features=0.9 \n",
      "[CV]  max_depth=29, min_samples_leaf=20, criterion=entropy, min_samples_split=10, max_features=0.9, score=0.7172368773905802, total= 1.0min\n",
      "[CV] max_depth=5, min_samples_leaf=10, criterion=entropy, min_samples_split=30, max_features=0.9 \n",
      "[CV]  max_depth=29, min_samples_leaf=20, criterion=entropy, min_samples_split=10, max_features=0.9, score=0.7219001605758896, total=  58.7s\n",
      "[CV]  max_depth=29, min_samples_leaf=20, criterion=entropy, min_samples_split=10, max_features=0.9, score=0.721304589684364, total=  57.9s\n",
      "[CV]  max_depth=29, min_samples_leaf=20, criterion=entropy, min_samples_split=10, max_features=0.9, score=0.7161961957723486, total= 1.0min\n",
      "[CV] max_depth=5, min_samples_leaf=10, criterion=entropy, min_samples_split=30, max_features=0.9 \n",
      "[CV]  max_depth=29, min_samples_leaf=20, criterion=entropy, min_samples_split=10, max_features=0.9, score=0.7214474308084298, total=  57.6s\n",
      "[CV] max_depth=5, min_samples_leaf=10, criterion=entropy, min_samples_split=30, max_features=0.9 \n",
      "[CV] max_depth=5, min_samples_leaf=10, criterion=entropy, min_samples_split=30, max_features=0.9 \n",
      "[CV] max_depth=5, min_samples_leaf=10, criterion=entropy, min_samples_split=30, max_features=0.9 \n",
      "[CV]  max_depth=5, min_samples_leaf=10, criterion=entropy, min_samples_split=30, max_features=0.9, score=0.6874546583675601, total=  15.4s\n",
      "[CV] max_depth=13, min_samples_leaf=10, criterion=gini, min_samples_split=10, max_features=0.9 \n",
      "[CV]  max_depth=5, min_samples_leaf=10, criterion=entropy, min_samples_split=30, max_features=0.9, score=0.7044073713379723, total=  15.1s\n",
      "[CV] max_depth=13, min_samples_leaf=10, criterion=gini, min_samples_split=10, max_features=0.9 \n",
      "[CV]  max_depth=5, min_samples_leaf=10, criterion=entropy, min_samples_split=30, max_features=0.9, score=0.6925166899549758, total=  14.9s\n",
      "[CV] max_depth=13, min_samples_leaf=10, criterion=gini, min_samples_split=10, max_features=0.9 \n",
      "[CV]  max_depth=5, min_samples_leaf=10, criterion=entropy, min_samples_split=30, max_features=0.9, score=0.6968205576961982, total=  15.5s\n",
      "[CV] max_depth=13, min_samples_leaf=10, criterion=gini, min_samples_split=10, max_features=0.9 \n",
      "[CV]  max_depth=5, min_samples_leaf=10, criterion=entropy, min_samples_split=30, max_features=0.9, score=0.706132823342884, total=  15.0s\n",
      "[CV]  max_depth=5, min_samples_leaf=10, criterion=entropy, min_samples_split=30, max_features=0.9, score=0.6909582408563042, total=  14.9s\n",
      "[CV] max_depth=13, min_samples_leaf=10, criterion=gini, min_samples_split=10, max_features=0.9 \n",
      "[CV] max_depth=13, min_samples_leaf=10, criterion=gini, min_samples_split=10, max_features=0.9 \n",
      "[CV]  max_depth=5, min_samples_leaf=10, criterion=entropy, min_samples_split=30, max_features=0.9, score=0.704316818300757, total=  15.4s\n",
      "[CV] max_depth=13, min_samples_leaf=10, criterion=gini, min_samples_split=10, max_features=0.9 \n",
      "[CV]  max_depth=5, min_samples_leaf=10, criterion=entropy, min_samples_split=30, max_features=0.9, score=0.708208630930218, total=  15.2s\n",
      "[CV] max_depth=13, min_samples_leaf=10, criterion=gini, min_samples_split=10, max_features=0.9 \n",
      "[CV]  max_depth=13, min_samples_leaf=10, criterion=gini, min_samples_split=10, max_features=0.9, score=0.7157412504175429, total=  34.0s\n",
      "[CV]  max_depth=13, min_samples_leaf=10, criterion=gini, min_samples_split=10, max_features=0.9, score=0.7155285975733112, total=  34.5s\n",
      "[CV]  max_depth=13, min_samples_leaf=10, criterion=gini, min_samples_split=10, max_features=0.9, score=0.7044294834700051, total=  34.1s\n",
      "[CV]  max_depth=13, min_samples_leaf=10, criterion=gini, min_samples_split=10, max_features=0.9, score=0.7141995172968625, total=  33.3s\n",
      "[CV]  max_depth=13, min_samples_leaf=10, criterion=gini, min_samples_split=10, max_features=0.9, score=0.7110186968315911, total=  32.8s\n",
      "[CV]  max_depth=13, min_samples_leaf=10, criterion=gini, min_samples_split=10, max_features=0.9, score=0.7226889293493858, total=  33.1s\n",
      "[CV]  max_depth=13, min_samples_leaf=10, criterion=gini, min_samples_split=10, max_features=0.9, score=0.726956748046452, total=  32.2s\n",
      "[CV]  max_depth=13, min_samples_leaf=10, criterion=gini, min_samples_split=10, max_features=0.9, score=0.7278488470192551, total=  31.8s\n"
     ]
    },
    {
     "name": "stderr",
     "output_type": "stream",
     "text": [
      "[Parallel(n_jobs=8)]: Done  80 out of  80 | elapsed:  5.1min finished\n"
     ]
    },
    {
     "data": {
      "text/plain": [
       "RandomizedSearchCV(cv=<generator object _BaseKFold.split at 0x129980150>,\n",
       "          error_score='raise',\n",
       "          estimator=ExtraTreesClassifier(bootstrap=False, class_weight=None, criterion='gini',\n",
       "           max_depth=None, max_features='auto', max_leaf_nodes=None,\n",
       "           min_impurity_decrease=0.0, min_impurity_split=None,\n",
       "           min_samples_leaf=1, min_samples_split=2,\n",
       "           min_weight_fraction_leaf=0.0, n_estimators=10, n_jobs=1,\n",
       "           oob_score=False, random_state=None, verbose=0, warm_start=False),\n",
       "          fit_params=None, iid=True, n_iter=10, n_jobs=8,\n",
       "          param_distributions={'max_depth': [5, 13, 21, 29, 37], 'min_samples_split': [10, 20, 30], 'criterion': ['gini', 'entropy'], 'min_samples_leaf': [10, 20, 30], 'max_features': [0.3, 0.7, 0.9]},\n",
       "          pre_dispatch='2*n_jobs', random_state=None, refit=True,\n",
       "          return_train_score='warn', scoring='roc_auc', verbose=3)"
      ]
     },
     "execution_count": 435,
     "metadata": {},
     "output_type": "execute_result"
    }
   ],
   "source": [
    "myIterator=skf.split(X_train_new,Y_train_new)\n",
    "rand_search.fit(X_train_new,Y_train_new)"
   ]
  },
  {
   "cell_type": "code",
   "execution_count": 436,
   "metadata": {},
   "outputs": [
    {
     "data": {
      "text/plain": [
       "0.7249621736009902"
      ]
     },
     "execution_count": 436,
     "metadata": {},
     "output_type": "execute_result"
    }
   ],
   "source": [
    "rand_search.best_score_"
   ]
  },
  {
   "cell_type": "code",
   "execution_count": 437,
   "metadata": {
    "collapsed": true
   },
   "outputs": [],
   "source": [
    "extr_tree = ExtraTreesClassifier(**rand_search.best_params_)"
   ]
  },
  {
   "cell_type": "code",
   "execution_count": 438,
   "metadata": {},
   "outputs": [
    {
     "name": "stdout",
     "output_type": "stream",
     "text": [
      "Classifier is being trained RandomForestClassifier(bootstrap=True, class_weight=None, criterion='gini',\n",
      "            max_depth=29, max_features=0.3, max_leaf_nodes=None,\n",
      "            min_impurity_decrease=0.0, min_impurity_split=None,\n",
      "            min_samples_leaf=30, min_samples_split=20,\n",
      "            min_weight_fraction_leaf=0.0, n_estimators=10, n_jobs=1,\n",
      "            oob_score=False, random_state=None, verbose=0,\n",
      "            warm_start=False)\n",
      "Classifier is being trained LogisticRegression(C=1.0, class_weight=None, dual=False, fit_intercept=True,\n",
      "          intercept_scaling=1, max_iter=100, multi_class='ovr', n_jobs=1,\n",
      "          penalty='l2', random_state=None, solver='liblinear', tol=0.0001,\n",
      "          verbose=0, warm_start=False)\n",
      "Classifier is being trained ExtraTreesClassifier(bootstrap=False, class_weight=None, criterion='entropy',\n",
      "           max_depth=37, max_features=0.3, max_leaf_nodes=None,\n",
      "           min_impurity_decrease=0.0, min_impurity_split=None,\n",
      "           min_samples_leaf=10, min_samples_split=20,\n",
      "           min_weight_fraction_leaf=0.0, n_estimators=10, n_jobs=1,\n",
      "           oob_score=False, random_state=None, verbose=0, warm_start=False)\n"
     ]
    }
   ],
   "source": [
    "preds = []\n",
    "for clf in (best_rf,log_reg,extr_tree):\n",
    "    print(\"Classifier is being trained {}\".format(clf))\n",
    "    clf.fit(X_train_new,Y_train_new)\n",
    "    preds.append(clf.predict_proba(X_test)[:,1])\n",
    "    "
   ]
  },
  {
   "cell_type": "code",
   "execution_count": 439,
   "metadata": {},
   "outputs": [
    {
     "data": {
      "text/plain": [
       "array([[1.        , 0.80300428],\n",
       "       [0.80300428, 1.        ]])"
      ]
     },
     "execution_count": 439,
     "metadata": {},
     "output_type": "execute_result"
    }
   ],
   "source": [
    "np.corrcoef(preds[0],preds[1])"
   ]
  },
  {
   "cell_type": "code",
   "execution_count": 440,
   "metadata": {},
   "outputs": [
    {
     "data": {
      "text/plain": [
       "array([[1.        , 0.78441624],\n",
       "       [0.78441624, 1.        ]])"
      ]
     },
     "execution_count": 440,
     "metadata": {},
     "output_type": "execute_result"
    }
   ],
   "source": [
    "np.corrcoef(preds[1],preds[2])"
   ]
  },
  {
   "cell_type": "code",
   "execution_count": 441,
   "metadata": {
    "scrolled": true
   },
   "outputs": [
    {
     "data": {
      "text/plain": [
       "array([[1.       , 0.8438106],\n",
       "       [0.8438106, 1.       ]])"
      ]
     },
     "execution_count": 441,
     "metadata": {},
     "output_type": "execute_result"
    }
   ],
   "source": [
    "np.corrcoef(preds[0],preds[2])"
   ]
  },
  {
   "cell_type": "markdown",
   "metadata": {},
   "source": [
    "Seems like our predictions are not completely correlated which makes it a good choice for the ensemble"
   ]
  },
  {
   "cell_type": "code",
   "execution_count": 442,
   "metadata": {
    "scrolled": true
   },
   "outputs": [
    {
     "name": "stdout",
     "output_type": "stream",
     "text": [
      "[CV]  ................................................................\n",
      "[CV] ....................... , score=0.7369305537912897, total=   9.3s\n",
      "[CV]  ................................................................\n"
     ]
    },
    {
     "name": "stderr",
     "output_type": "stream",
     "text": [
      "[Parallel(n_jobs=1)]: Done   1 out of   1 | elapsed:    9.3s remaining:    0.0s\n"
     ]
    },
    {
     "name": "stdout",
     "output_type": "stream",
     "text": [
      "[CV] ....................... , score=0.7377463503220373, total=  11.6s\n",
      "[CV]  ................................................................\n"
     ]
    },
    {
     "name": "stderr",
     "output_type": "stream",
     "text": [
      "[Parallel(n_jobs=1)]: Done   2 out of   2 | elapsed:   20.9s remaining:    0.0s\n"
     ]
    },
    {
     "name": "stdout",
     "output_type": "stream",
     "text": [
      "[CV] ........................ , score=0.729756813594727, total=  11.4s\n",
      "[CV]  ................................................................\n",
      "[CV] ........................ , score=0.735573245261182, total=  10.6s\n",
      "[CV]  ................................................................\n",
      "[CV] ....................... , score=0.7536910794013729, total=   9.6s\n",
      "[CV]  ................................................................\n",
      "[CV] ....................... , score=0.7334586126469044, total=  10.3s\n",
      "[CV]  ................................................................\n",
      "[CV] ....................... , score=0.7384208406044279, total=   9.7s\n",
      "[CV]  ................................................................\n",
      "[CV] ......................... , score=0.73752261139322, total=   9.6s\n"
     ]
    },
    {
     "name": "stderr",
     "output_type": "stream",
     "text": [
      "[Parallel(n_jobs=1)]: Done   8 out of   8 | elapsed:  1.4min finished\n"
     ]
    }
   ],
   "source": [
    "voting_clf = VotingClassifier(estimators=[(\"lr\",log_reg),(\"rf\",best_rf),(\"extrees\",extr_tree)],voting=\"soft\")\n",
    "scores3 = cross_val_score(voting_clf,X_train_new,Y_train_new,cv=myIterator,n_jobs=1,scoring=\"roc_auc\",verbose=3)"
   ]
  },
  {
   "cell_type": "code",
   "execution_count": 444,
   "metadata": {},
   "outputs": [
    {
     "name": "stdout",
     "output_type": "stream",
     "text": [
      "Ensembles val 0.7379 \n"
     ]
    }
   ],
   "source": [
    "print(\"Ensembles val {:.4f} \".format(scores3.mean()))"
   ]
  },
  {
   "cell_type": "code",
   "execution_count": 445,
   "metadata": {},
   "outputs": [
    {
     "data": {
      "text/plain": [
       "VotingClassifier(estimators=[('lr', LogisticRegression(C=1.0, class_weight=None, dual=False, fit_intercept=True,\n",
       "          intercept_scaling=1, max_iter=100, multi_class='ovr', n_jobs=1,\n",
       "          penalty='l2', random_state=None, solver='liblinear', tol=0.0001,\n",
       "          verbose=0, warm_start=False)), ('rf', RandomF...timators=10, n_jobs=1,\n",
       "           oob_score=False, random_state=None, verbose=0, warm_start=False))],\n",
       "         flatten_transform=None, n_jobs=1, voting='soft', weights=None)"
      ]
     },
     "execution_count": 445,
     "metadata": {},
     "output_type": "execute_result"
    }
   ],
   "source": [
    "voting_clf.fit(X_train_new,Y_train_new)"
   ]
  },
  {
   "cell_type": "markdown",
   "metadata": {},
   "source": [
    "## Stacking"
   ]
  },
  {
   "cell_type": "code",
   "execution_count": 447,
   "metadata": {
    "collapsed": true
   },
   "outputs": [],
   "source": [
    "rf_predictions = []\n",
    "et_predictions = []\n",
    "log_predictions=[]\n",
    "for train, val in skf.split(X_train_new,Y_train_new):\n",
    "    best_rf.fit(X_train_new.iloc[train], Y_train_new[train])\n",
    "    extr_tree.fit(X_train_new.iloc[train], Y_train_new[train])\n",
    "    log_reg.fit(X_train_new.iloc[train],Y_train_new[train])\n",
    "    rf_predictions.append([Y_train_new[val], best_rf.predict_proba(X_train_new.iloc[val])[:,1]])\n",
    "    et_predictions.append([Y_train_new[val], extr_tree.predict_proba(X_train_new.iloc[val])[:,1]])\n",
    "    log_predictions.append([Y_train_new[val], log_reg.predict_proba(X_train_new.iloc[val])[:,1]])\n",
    "    "
   ]
  },
  {
   "cell_type": "code",
   "execution_count": 448,
   "metadata": {
    "collapsed": true
   },
   "outputs": [],
   "source": [
    "X_train_aug = X_train_new.copy()"
   ]
  },
  {
   "cell_type": "code",
   "execution_count": 450,
   "metadata": {
    "collapsed": true
   },
   "outputs": [],
   "source": [
    "X_train_aug[\"rf_preds\"] = 0\n",
    "X_train_aug[\"et_preds\"] = 0\n",
    "X_train_aug[\"log_preds\"]=0"
   ]
  },
  {
   "cell_type": "code",
   "execution_count": 451,
   "metadata": {
    "collapsed": true
   },
   "outputs": [],
   "source": [
    "for i, fold in enumerate(skf.split(X_train_new,Y_train_new)):\n",
    "    train, val = fold[0], fold[1]\n",
    "    X_train_aug.iloc[val, -1] = rf_predictions[i][1]\n",
    "    X_train_aug.iloc[val, -2] = et_predictions[i][1]\n",
    "    X_train_aug.iloc[val, -3] = log_predictions[i][1]"
   ]
  },
  {
   "cell_type": "code",
   "execution_count": 456,
   "metadata": {
    "collapsed": true
   },
   "outputs": [],
   "source": [
    "import xgboost "
   ]
  },
  {
   "cell_type": "code",
   "execution_count": 457,
   "metadata": {
    "collapsed": true
   },
   "outputs": [],
   "source": [
    "xgbClas = xgboost.XGBClassifier()"
   ]
  },
  {
   "cell_type": "code",
   "execution_count": 458,
   "metadata": {},
   "outputs": [
    {
     "name": "stdout",
     "output_type": "stream",
     "text": [
      "[CV]  ................................................................\n",
      "[CV]  ................................................................\n",
      "[CV]  ................................................................\n",
      "[CV]  ................................................................\n",
      "[CV]  ................................................................\n",
      "[CV]  ................................................................\n",
      "[CV]  ................................................................\n",
      "[CV]  ................................................................\n",
      "[CV] ....................... , score=0.7472564489797839, total= 1.3min\n",
      "[CV] ....................... , score=0.7397832540589877, total= 1.3min\n"
     ]
    },
    {
     "name": "stderr",
     "output_type": "stream",
     "text": [
      "[Parallel(n_jobs=8)]: Done   2 out of   8 | elapsed:  1.4min remaining:  4.1min\n"
     ]
    },
    {
     "name": "stdout",
     "output_type": "stream",
     "text": [
      "[CV] ......................... , score=0.73902955968629, total= 1.3min\n",
      "[CV] ....................... , score=0.7300376847186348, total= 1.3min\n",
      "[CV] ........................ , score=0.749017892008111, total= 1.3min\n"
     ]
    },
    {
     "name": "stderr",
     "output_type": "stream",
     "text": [
      "[Parallel(n_jobs=8)]: Done   5 out of   8 | elapsed:  1.4min remaining:   49.3s\n"
     ]
    },
    {
     "name": "stdout",
     "output_type": "stream",
     "text": [
      "[CV] ....................... , score=0.7387542755919001, total= 1.3min\n",
      "[CV] ....................... , score=0.7386147364616453, total= 1.3min\n",
      "[CV] ....................... , score=0.7333677237031501, total= 1.3min\n"
     ]
    },
    {
     "name": "stderr",
     "output_type": "stream",
     "text": [
      "[Parallel(n_jobs=8)]: Done   8 out of   8 | elapsed:  1.4min remaining:    0.0s\n",
      "[Parallel(n_jobs=8)]: Done   8 out of   8 | elapsed:  1.4min finished\n"
     ]
    }
   ],
   "source": [
    "myIterator=skf.split(X_train_aug,Y_train_new)\n",
    "scores_xgb = cross_val_score(xgbClas,X_train_aug,Y_train_new,cv=myIterator,n_jobs=8,scoring=\"roc_auc\",verbose=3)"
   ]
  },
  {
   "cell_type": "code",
   "execution_count": 459,
   "metadata": {},
   "outputs": [
    {
     "name": "stdout",
     "output_type": "stream",
     "text": [
      "Using stacking 0.73948\n"
     ]
    }
   ],
   "source": [
    "print(\"Using stacking {:.5f}\".format(scores_xgb.mean()))"
   ]
  },
  {
   "cell_type": "code",
   "execution_count": 468,
   "metadata": {},
   "outputs": [
    {
     "data": {
      "text/plain": [
       "XGBClassifier(base_score=0.5, booster='gbtree', colsample_bylevel=1,\n",
       "       colsample_bytree=1, gamma=0, learning_rate=0.1, max_delta_step=0,\n",
       "       max_depth=3, min_child_weight=1, missing=None, n_estimators=100,\n",
       "       n_jobs=1, nthread=None, objective='binary:logistic', random_state=0,\n",
       "       reg_alpha=0, reg_lambda=1, scale_pos_weight=1, seed=None,\n",
       "       silent=True, subsample=1)"
      ]
     },
     "execution_count": 468,
     "metadata": {},
     "output_type": "execute_result"
    }
   ],
   "source": [
    "xgbClas.fit(X_train_aug,Y_train_new)"
   ]
  },
  {
   "cell_type": "code",
   "execution_count": 466,
   "metadata": {
    "collapsed": true
   },
   "outputs": [],
   "source": [
    "def predict_test_proba():\n",
    "    X_test[\"rf_preds\"] = 0\n",
    "    X_test[\"et_preds\"] = 0\n",
    "    X_test[\"log_preds\"]=0\n",
    "    for index,clas in enumerate([best_rf,extr_tree,log_reg]):\n",
    "        clas.fit(X_train_new,Y_train_new)\n",
    "        res = clas.predict_proba(X_test.iloc[:,:-3])[:,1]\n",
    "        X_test.iloc[:,-(index+1)] = res"
   ]
  },
  {
   "cell_type": "code",
   "execution_count": 467,
   "metadata": {
    "collapsed": true
   },
   "outputs": [],
   "source": [
    "predict_test_proba()"
   ]
  },
  {
   "cell_type": "code",
   "execution_count": 470,
   "metadata": {
    "collapsed": true
   },
   "outputs": [],
   "source": [
    "vals = xgbClas.predict_proba(X_test)"
   ]
  },
  {
   "cell_type": "code",
   "execution_count": 474,
   "metadata": {},
   "outputs": [
    {
     "name": "stderr",
     "output_type": "stream",
     "text": [
      "/Users/mac/anaconda3/lib/python3.5/site-packages/ipykernel_launcher.py:2: SettingWithCopyWarning: \n",
      "A value is trying to be set on a copy of a slice from a DataFrame.\n",
      "Try using .loc[row_indexer,col_indexer] = value instead\n",
      "\n",
      "See the caveats in the documentation: http://pandas.pydata.org/pandas-docs/stable/indexing.html#indexing-view-versus-copy\n",
      "  \n"
     ]
    },
    {
     "data": {
      "text/html": [
       "<div>\n",
       "<style scoped>\n",
       "    .dataframe tbody tr th:only-of-type {\n",
       "        vertical-align: middle;\n",
       "    }\n",
       "\n",
       "    .dataframe tbody tr th {\n",
       "        vertical-align: top;\n",
       "    }\n",
       "\n",
       "    .dataframe thead th {\n",
       "        text-align: right;\n",
       "    }\n",
       "</style>\n",
       "<table border=\"1\" class=\"dataframe\">\n",
       "  <thead>\n",
       "    <tr style=\"text-align: right;\">\n",
       "      <th></th>\n",
       "      <th>_ID_</th>\n",
       "      <th>_VAL_</th>\n",
       "    </tr>\n",
       "  </thead>\n",
       "  <tbody>\n",
       "    <tr>\n",
       "      <th>0</th>\n",
       "      <td>0</td>\n",
       "      <td>0.153728</td>\n",
       "    </tr>\n",
       "    <tr>\n",
       "      <th>1</th>\n",
       "      <td>1</td>\n",
       "      <td>0.412388</td>\n",
       "    </tr>\n",
       "    <tr>\n",
       "      <th>2</th>\n",
       "      <td>2</td>\n",
       "      <td>0.275629</td>\n",
       "    </tr>\n",
       "    <tr>\n",
       "      <th>3</th>\n",
       "      <td>3</td>\n",
       "      <td>0.324806</td>\n",
       "    </tr>\n",
       "    <tr>\n",
       "      <th>4</th>\n",
       "      <td>4</td>\n",
       "      <td>0.653551</td>\n",
       "    </tr>\n",
       "    <tr>\n",
       "      <th>5</th>\n",
       "      <td>5</td>\n",
       "      <td>0.263956</td>\n",
       "    </tr>\n",
       "    <tr>\n",
       "      <th>6</th>\n",
       "      <td>6</td>\n",
       "      <td>0.076646</td>\n",
       "    </tr>\n",
       "    <tr>\n",
       "      <th>7</th>\n",
       "      <td>7</td>\n",
       "      <td>0.138943</td>\n",
       "    </tr>\n",
       "    <tr>\n",
       "      <th>8</th>\n",
       "      <td>8</td>\n",
       "      <td>0.096029</td>\n",
       "    </tr>\n",
       "    <tr>\n",
       "      <th>9</th>\n",
       "      <td>9</td>\n",
       "      <td>0.274639</td>\n",
       "    </tr>\n",
       "    <tr>\n",
       "      <th>10</th>\n",
       "      <td>10</td>\n",
       "      <td>0.090575</td>\n",
       "    </tr>\n",
       "    <tr>\n",
       "      <th>11</th>\n",
       "      <td>11</td>\n",
       "      <td>0.637042</td>\n",
       "    </tr>\n",
       "    <tr>\n",
       "      <th>12</th>\n",
       "      <td>12</td>\n",
       "      <td>0.043402</td>\n",
       "    </tr>\n",
       "    <tr>\n",
       "      <th>13</th>\n",
       "      <td>13</td>\n",
       "      <td>0.173785</td>\n",
       "    </tr>\n",
       "    <tr>\n",
       "      <th>14</th>\n",
       "      <td>14</td>\n",
       "      <td>0.544709</td>\n",
       "    </tr>\n",
       "    <tr>\n",
       "      <th>15</th>\n",
       "      <td>15</td>\n",
       "      <td>0.139942</td>\n",
       "    </tr>\n",
       "    <tr>\n",
       "      <th>16</th>\n",
       "      <td>16</td>\n",
       "      <td>0.042694</td>\n",
       "    </tr>\n",
       "    <tr>\n",
       "      <th>17</th>\n",
       "      <td>17</td>\n",
       "      <td>0.222365</td>\n",
       "    </tr>\n",
       "    <tr>\n",
       "      <th>18</th>\n",
       "      <td>18</td>\n",
       "      <td>0.301123</td>\n",
       "    </tr>\n",
       "    <tr>\n",
       "      <th>19</th>\n",
       "      <td>19</td>\n",
       "      <td>0.101049</td>\n",
       "    </tr>\n",
       "    <tr>\n",
       "      <th>20</th>\n",
       "      <td>20</td>\n",
       "      <td>0.036781</td>\n",
       "    </tr>\n",
       "    <tr>\n",
       "      <th>21</th>\n",
       "      <td>21</td>\n",
       "      <td>0.238374</td>\n",
       "    </tr>\n",
       "    <tr>\n",
       "      <th>22</th>\n",
       "      <td>22</td>\n",
       "      <td>0.131935</td>\n",
       "    </tr>\n",
       "    <tr>\n",
       "      <th>23</th>\n",
       "      <td>23</td>\n",
       "      <td>0.027443</td>\n",
       "    </tr>\n",
       "    <tr>\n",
       "      <th>24</th>\n",
       "      <td>24</td>\n",
       "      <td>0.470913</td>\n",
       "    </tr>\n",
       "    <tr>\n",
       "      <th>25</th>\n",
       "      <td>25</td>\n",
       "      <td>0.420480</td>\n",
       "    </tr>\n",
       "    <tr>\n",
       "      <th>26</th>\n",
       "      <td>26</td>\n",
       "      <td>0.504685</td>\n",
       "    </tr>\n",
       "    <tr>\n",
       "      <th>27</th>\n",
       "      <td>27</td>\n",
       "      <td>0.102877</td>\n",
       "    </tr>\n",
       "    <tr>\n",
       "      <th>28</th>\n",
       "      <td>28</td>\n",
       "      <td>0.071219</td>\n",
       "    </tr>\n",
       "    <tr>\n",
       "      <th>29</th>\n",
       "      <td>29</td>\n",
       "      <td>0.255502</td>\n",
       "    </tr>\n",
       "    <tr>\n",
       "      <th>...</th>\n",
       "      <td>...</td>\n",
       "      <td>...</td>\n",
       "    </tr>\n",
       "    <tr>\n",
       "      <th>4136</th>\n",
       "      <td>4136</td>\n",
       "      <td>0.069120</td>\n",
       "    </tr>\n",
       "    <tr>\n",
       "      <th>4137</th>\n",
       "      <td>4137</td>\n",
       "      <td>0.062341</td>\n",
       "    </tr>\n",
       "    <tr>\n",
       "      <th>4138</th>\n",
       "      <td>4138</td>\n",
       "      <td>0.096345</td>\n",
       "    </tr>\n",
       "    <tr>\n",
       "      <th>4139</th>\n",
       "      <td>4139</td>\n",
       "      <td>0.090284</td>\n",
       "    </tr>\n",
       "    <tr>\n",
       "      <th>4140</th>\n",
       "      <td>4140</td>\n",
       "      <td>0.132845</td>\n",
       "    </tr>\n",
       "    <tr>\n",
       "      <th>4141</th>\n",
       "      <td>4141</td>\n",
       "      <td>0.175560</td>\n",
       "    </tr>\n",
       "    <tr>\n",
       "      <th>4142</th>\n",
       "      <td>4142</td>\n",
       "      <td>0.078862</td>\n",
       "    </tr>\n",
       "    <tr>\n",
       "      <th>4143</th>\n",
       "      <td>4143</td>\n",
       "      <td>0.053049</td>\n",
       "    </tr>\n",
       "    <tr>\n",
       "      <th>4144</th>\n",
       "      <td>4144</td>\n",
       "      <td>0.085373</td>\n",
       "    </tr>\n",
       "    <tr>\n",
       "      <th>4145</th>\n",
       "      <td>4145</td>\n",
       "      <td>0.104363</td>\n",
       "    </tr>\n",
       "    <tr>\n",
       "      <th>4146</th>\n",
       "      <td>4146</td>\n",
       "      <td>0.039598</td>\n",
       "    </tr>\n",
       "    <tr>\n",
       "      <th>4147</th>\n",
       "      <td>4147</td>\n",
       "      <td>0.126716</td>\n",
       "    </tr>\n",
       "    <tr>\n",
       "      <th>4148</th>\n",
       "      <td>4148</td>\n",
       "      <td>0.092405</td>\n",
       "    </tr>\n",
       "    <tr>\n",
       "      <th>4149</th>\n",
       "      <td>4149</td>\n",
       "      <td>0.208570</td>\n",
       "    </tr>\n",
       "    <tr>\n",
       "      <th>4150</th>\n",
       "      <td>4150</td>\n",
       "      <td>0.137756</td>\n",
       "    </tr>\n",
       "    <tr>\n",
       "      <th>4151</th>\n",
       "      <td>4151</td>\n",
       "      <td>0.122261</td>\n",
       "    </tr>\n",
       "    <tr>\n",
       "      <th>4152</th>\n",
       "      <td>4152</td>\n",
       "      <td>0.133818</td>\n",
       "    </tr>\n",
       "    <tr>\n",
       "      <th>4153</th>\n",
       "      <td>4153</td>\n",
       "      <td>0.361998</td>\n",
       "    </tr>\n",
       "    <tr>\n",
       "      <th>4154</th>\n",
       "      <td>4154</td>\n",
       "      <td>0.323989</td>\n",
       "    </tr>\n",
       "    <tr>\n",
       "      <th>4155</th>\n",
       "      <td>4155</td>\n",
       "      <td>0.131308</td>\n",
       "    </tr>\n",
       "    <tr>\n",
       "      <th>4156</th>\n",
       "      <td>4156</td>\n",
       "      <td>0.557286</td>\n",
       "    </tr>\n",
       "    <tr>\n",
       "      <th>4157</th>\n",
       "      <td>4157</td>\n",
       "      <td>0.114279</td>\n",
       "    </tr>\n",
       "    <tr>\n",
       "      <th>4158</th>\n",
       "      <td>4158</td>\n",
       "      <td>0.180345</td>\n",
       "    </tr>\n",
       "    <tr>\n",
       "      <th>4159</th>\n",
       "      <td>4159</td>\n",
       "      <td>0.438559</td>\n",
       "    </tr>\n",
       "    <tr>\n",
       "      <th>4160</th>\n",
       "      <td>4160</td>\n",
       "      <td>0.031110</td>\n",
       "    </tr>\n",
       "    <tr>\n",
       "      <th>4161</th>\n",
       "      <td>4161</td>\n",
       "      <td>0.048585</td>\n",
       "    </tr>\n",
       "    <tr>\n",
       "      <th>4162</th>\n",
       "      <td>4162</td>\n",
       "      <td>0.120578</td>\n",
       "    </tr>\n",
       "    <tr>\n",
       "      <th>4163</th>\n",
       "      <td>4163</td>\n",
       "      <td>0.053147</td>\n",
       "    </tr>\n",
       "    <tr>\n",
       "      <th>4164</th>\n",
       "      <td>4164</td>\n",
       "      <td>0.122132</td>\n",
       "    </tr>\n",
       "    <tr>\n",
       "      <th>4165</th>\n",
       "      <td>4165</td>\n",
       "      <td>0.138389</td>\n",
       "    </tr>\n",
       "  </tbody>\n",
       "</table>\n",
       "<p>4166 rows × 2 columns</p>\n",
       "</div>"
      ],
      "text/plain": [
       "      _ID_     _VAL_\n",
       "0        0  0.153728\n",
       "1        1  0.412388\n",
       "2        2  0.275629\n",
       "3        3  0.324806\n",
       "4        4  0.653551\n",
       "5        5  0.263956\n",
       "6        6  0.076646\n",
       "7        7  0.138943\n",
       "8        8  0.096029\n",
       "9        9  0.274639\n",
       "10      10  0.090575\n",
       "11      11  0.637042\n",
       "12      12  0.043402\n",
       "13      13  0.173785\n",
       "14      14  0.544709\n",
       "15      15  0.139942\n",
       "16      16  0.042694\n",
       "17      17  0.222365\n",
       "18      18  0.301123\n",
       "19      19  0.101049\n",
       "20      20  0.036781\n",
       "21      21  0.238374\n",
       "22      22  0.131935\n",
       "23      23  0.027443\n",
       "24      24  0.470913\n",
       "25      25  0.420480\n",
       "26      26  0.504685\n",
       "27      27  0.102877\n",
       "28      28  0.071219\n",
       "29      29  0.255502\n",
       "...    ...       ...\n",
       "4136  4136  0.069120\n",
       "4137  4137  0.062341\n",
       "4138  4138  0.096345\n",
       "4139  4139  0.090284\n",
       "4140  4140  0.132845\n",
       "4141  4141  0.175560\n",
       "4142  4142  0.078862\n",
       "4143  4143  0.053049\n",
       "4144  4144  0.085373\n",
       "4145  4145  0.104363\n",
       "4146  4146  0.039598\n",
       "4147  4147  0.126716\n",
       "4148  4148  0.092405\n",
       "4149  4149  0.208570\n",
       "4150  4150  0.137756\n",
       "4151  4151  0.122261\n",
       "4152  4152  0.133818\n",
       "4153  4153  0.361998\n",
       "4154  4154  0.323989\n",
       "4155  4155  0.131308\n",
       "4156  4156  0.557286\n",
       "4157  4157  0.114279\n",
       "4158  4158  0.180345\n",
       "4159  4159  0.438559\n",
       "4160  4160  0.031110\n",
       "4161  4161  0.048585\n",
       "4162  4162  0.120578\n",
       "4163  4163  0.053147\n",
       "4164  4164  0.122132\n",
       "4165  4165  0.138389\n",
       "\n",
       "[4166 rows x 2 columns]"
      ]
     },
     "execution_count": 474,
     "metadata": {},
     "output_type": "execute_result"
    }
   ],
   "source": [
    "submit(vals)"
   ]
  },
  {
   "cell_type": "markdown",
   "metadata": {},
   "source": [
    "## Boosting tuning"
   ]
  },
  {
   "cell_type": "code",
   "execution_count": 187,
   "metadata": {},
   "outputs": [
    {
     "name": "stdout",
     "output_type": "stream",
     "text": [
      "Collecting bayesian-optimization\n",
      "  Downloading bayesian-optimization-0.6.0.tar.gz\n",
      "Requirement already satisfied: numpy>=1.9.0 in /Users/mac/anaconda3/lib/python3.5/site-packages (from bayesian-optimization)\n",
      "Requirement already satisfied: scipy>=0.14.0 in /Users/mac/anaconda3/lib/python3.5/site-packages (from bayesian-optimization)\n",
      "Requirement already satisfied: scikit-learn>=0.18.0 in /Users/mac/anaconda3/lib/python3.5/site-packages (from bayesian-optimization)\n",
      "Building wheels for collected packages: bayesian-optimization\n",
      "  Running setup.py bdist_wheel for bayesian-optimization ... \u001b[?25ldone\n",
      "\u001b[?25h  Stored in directory: /Users/mac/Library/Caches/pip/wheels/c5/92/8b/a2c219cb16b9a6271dd0e72b5c9e930c32dee10908870e5512\n",
      "Successfully built bayesian-optimization\n",
      "Installing collected packages: bayesian-optimization\n",
      "Successfully installed bayesian-optimization-0.6.0\n"
     ]
    }
   ],
   "source": [
    "!pip install bayesian-optimization"
   ]
  },
  {
   "cell_type": "markdown",
   "metadata": {},
   "source": [
    "Inspired by  __[this course material ](https://www.coursera.org/learn/bayesian-methods-in-machine-learning/lecture/iRLaF/bayesian-optimization)__ I decided to use bayesian optimization for my paramaters tuning"
   ]
  },
  {
   "cell_type": "code",
   "execution_count": 499,
   "metadata": {
    "collapsed": true
   },
   "outputs": [],
   "source": [
    "def xgb_evaluate(min_child_weight, colsample_bytree, max_depth,\n",
    "                 subsample,\n",
    "                 gamma,\n",
    "                 alpha,\n",
    "                 n_estimators,\n",
    "                 learning_rate):\n",
    "    \n",
    " \n",
    "    '''According to the idea, this is our surrogate function which we will optimize '''\n",
    "\n",
    "    params['min_child_weight'] = int(min_child_weight)\n",
    "    params['cosample_bytree'] = max(min(colsample_bytree, 1), 0)\n",
    "    params['max_depth'] = int(max_depth)\n",
    "    params['subsample'] = max(min(subsample, 1), 0)\n",
    "    params['gamma'] = max(gamma, 0)\n",
    "    params['alpha'] = max(alpha, 0)\n",
    "    params[\"n_estimators\"] = int(n_estimators)\n",
    "    params[\"learning_rate\"] = max(learning_rate,0)\n",
    "\n",
    "\n",
    "    cv_result = xgb.cv(params, xgtrain, num_boost_round=num_rounds, nfold=5,\n",
    "             seed=random_state,\n",
    "             callbacks=[xgb.callback.early_stop(50)])\n",
    "\n",
    "    return cv_result['test-auc-mean'].values[-1]"
   ]
  },
  {
   "cell_type": "code",
   "execution_count": 500,
   "metadata": {
    "collapsed": true
   },
   "outputs": [],
   "source": [
    "from bayes_opt import BayesianOptimization"
   ]
  },
  {
   "cell_type": "code",
   "execution_count": 501,
   "metadata": {
    "collapsed": true
   },
   "outputs": [],
   "source": [
    "xgtrain = xgboost.DMatrix(X_train_aug,Y_train_new)"
   ]
  },
  {
   "cell_type": "code",
   "execution_count": 502,
   "metadata": {
    "collapsed": true
   },
   "outputs": [],
   "source": [
    "num_rounds = 3000\n",
    "random_state = 2016\n",
    "num_iter = 25\n",
    "init_points = 10\n",
    "params = {\n",
    "    'eta': 0.1,\n",
    "    'silent': 1,\n",
    "    'eval_metric': 'auc',\n",
    "    'verbose_eval': True,\n",
    "    'seed': random_state\n",
    "}\n",
    "\n",
    "xgbBO = BayesianOptimization(xgb_evaluate, {'min_child_weight': (1, 20),\n",
    "                                            'colsample_bytree': (0.1, 1),\n",
    "                                            'max_depth': (3, 15),\n",
    "                                            'subsample': (0.5, 1),\n",
    "                                            'gamma': (0, 10),\n",
    "                                            'alpha': (0, 10),\n",
    "                                            \"n_estimators\":(50,1000),\n",
    "                                            \"learning_rate\":(0.01,0.1),\n",
    "                                            })"
   ]
  },
  {
   "cell_type": "code",
   "execution_count": 503,
   "metadata": {
    "scrolled": true
   },
   "outputs": [
    {
     "name": "stdout",
     "output_type": "stream",
     "text": [
      "\u001b[31mInitialization\u001b[0m\n",
      "\u001b[94m--------------------------------------------------------------------------------------------------------------------------------------------------------------\u001b[0m\n",
      " Step |   Time |      Value |     alpha |   colsample_bytree |     gamma |   learning_rate |   max_depth |   min_child_weight |   n_estimators |   subsample | \n",
      "Multiple eval metrics have been passed: 'test-auc' will be used for early stopping.\n",
      "\n",
      "Will train until test-auc hasn't improved in 50 rounds.\n",
      "Stopping. Best iteration:\n",
      "[268]\ttrain-auc:0.751394+0.00255534\ttest-auc:0.740383+0.00800751\n",
      "\n",
      "    1 | 15m18s | \u001b[35m   0.74038\u001b[0m | \u001b[32m   6.9163\u001b[0m | \u001b[32m            0.1734\u001b[0m | \u001b[32m   2.0084\u001b[0m | \u001b[32m         0.0626\u001b[0m | \u001b[32m     6.8430\u001b[0m | \u001b[32m            4.4632\u001b[0m | \u001b[32m      757.6568\u001b[0m | \u001b[32m     0.6534\u001b[0m | \n",
      "Multiple eval metrics have been passed: 'test-auc' will be used for early stopping.\n",
      "\n",
      "Will train until test-auc hasn't improved in 50 rounds.\n",
      "Stopping. Best iteration:\n",
      "[212]\ttrain-auc:0.739033+0.0019837\ttest-auc:0.735105+0.00889134\n",
      "\n",
      "    2 | 09m25s |    0.73511 |    8.1910 |             0.5834 |    9.6994 |          0.0414 |      5.6267 |             9.5839 |       328.2833 |      0.9164 | \n",
      "Multiple eval metrics have been passed: 'test-auc' will be used for early stopping.\n",
      "\n",
      "Will train until test-auc hasn't improved in 50 rounds.\n",
      "Stopping. Best iteration:\n",
      "[135]\ttrain-auc:0.741482+0.00198381\ttest-auc:0.7378+0.00770147\n",
      "\n",
      "    3 | 09m08s |    0.73780 |    8.1287 |             0.1289 |    3.7898 |          0.0906 |      7.7480 |            16.9049 |       316.7092 |      0.6228 | \n",
      "Multiple eval metrics have been passed: 'test-auc' will be used for early stopping.\n",
      "\n",
      "Will train until test-auc hasn't improved in 50 rounds.\n",
      "Stopping. Best iteration:\n",
      "[82]\ttrain-auc:0.764559+0.00142194\ttest-auc:0.739812+0.00810404\n",
      "\n",
      "    4 | 14m14s |    0.73981 |    3.7825 |             0.5328 |    2.0086 |          0.0631 |     13.7156 |             9.9468 |       529.8920 |      0.7466 | \n",
      "Multiple eval metrics have been passed: 'test-auc' will be used for early stopping.\n",
      "\n",
      "Will train until test-auc hasn't improved in 50 rounds.\n",
      "Stopping. Best iteration:\n",
      "[117]\ttrain-auc:0.741022+0.00186107\ttest-auc:0.737801+0.0078936\n",
      "\n",
      "    5 | 18m11s |    0.73780 |    6.6779 |             0.4242 |    4.4483 |          0.0713 |      8.5706 |             8.3446 |       568.6560 |      0.5496 | \n",
      "Multiple eval metrics have been passed: 'test-auc' will be used for early stopping.\n",
      "\n",
      "Will train until test-auc hasn't improved in 50 rounds.\n",
      "Stopping. Best iteration:\n",
      "[122]\ttrain-auc:0.739897+0.00213501\ttest-auc:0.736435+0.00794517\n",
      "\n",
      "    6 | 16m14s |    0.73644 |    8.8172 |             0.9192 |    6.0563 |          0.0947 |     14.0374 |             4.3216 |       631.6743 |      0.5524 | \n",
      "Multiple eval metrics have been passed: 'test-auc' will be used for early stopping.\n",
      "\n",
      "Will train until test-auc hasn't improved in 50 rounds.\n",
      "Stopping. Best iteration:\n",
      "[38]\ttrain-auc:0.739928+0.00171457\ttest-auc:0.735703+0.00853692\n",
      "\n",
      "    7 | 02m02s |    0.73570 |    7.3148 |             0.5012 |    8.4660 |          0.0846 |      4.1630 |             7.4062 |       567.5726 |      0.8578 | \n",
      "Multiple eval metrics have been passed: 'test-auc' will be used for early stopping.\n",
      "\n",
      "Will train until test-auc hasn't improved in 50 rounds.\n",
      "Stopping. Best iteration:\n",
      "[813]\ttrain-auc:0.746431+0.00181997\ttest-auc:0.739404+0.00792742\n",
      "\n",
      "    8 | 58m07s |    0.73940 |    0.5880 |             0.5032 |    3.8410 |          0.0137 |      9.4024 |            18.9039 |       488.8520 |      0.6168 | \n",
      "Multiple eval metrics have been passed: 'test-auc' will be used for early stopping.\n",
      "\n",
      "Will train until test-auc hasn't improved in 50 rounds.\n",
      "Stopping. Best iteration:\n",
      "[115]\ttrain-auc:0.740851+0.00204312\ttest-auc:0.737053+0.00786933\n",
      "\n",
      "    9 | 13m18s |    0.73705 |    5.6877 |             0.8613 |    7.5593 |          0.0305 |      9.5517 |            19.8491 |       921.4331 |      0.8176 | \n",
      "Multiple eval metrics have been passed: 'test-auc' will be used for early stopping.\n",
      "\n",
      "Will train until test-auc hasn't improved in 50 rounds.\n",
      "Stopping. Best iteration:\n",
      "[164]\ttrain-auc:0.740673+0.00184857\ttest-auc:0.737419+0.00786365\n",
      "\n",
      "   10 | 18m23s |    0.73742 |    5.4079 |             0.2590 |    4.5081 |          0.0614 |      7.1802 |             7.9383 |       372.9887 |      0.5047 | \n"
     ]
    },
    {
     "name": "stderr",
     "output_type": "stream",
     "text": [
      "/Users/mac/anaconda3/lib/python3.5/site-packages/sklearn/gaussian_process/gpr.py:457: UserWarning: fmin_l_bfgs_b terminated abnormally with the  state: {'task': b'ABNORMAL_TERMINATION_IN_LNSRCH', 'funcalls': 64, 'warnflag': 2, 'nit': 6, 'grad': array([-2.80431932e-05])}\n",
      "  \" state: %s\" % convergence_dict)\n"
     ]
    },
    {
     "name": "stdout",
     "output_type": "stream",
     "text": [
      "\u001b[31mBayesian Optimization\u001b[0m\n",
      "\u001b[94m--------------------------------------------------------------------------------------------------------------------------------------------------------------\u001b[0m\n",
      " Step |   Time |      Value |     alpha |   colsample_bytree |     gamma |   learning_rate |   max_depth |   min_child_weight |   n_estimators |   subsample | \n",
      "Multiple eval metrics have been passed: 'test-auc' will be used for early stopping.\n",
      "\n",
      "Will train until test-auc hasn't improved in 50 rounds.\n",
      "Stopping. Best iteration:\n",
      "[32]\ttrain-auc:0.901771+0.00155279\ttest-auc:0.733541+0.00701052\n",
      "\n",
      "   11 | 68m47s |    0.73354 |    1.1497 |             0.2581 |    0.6100 |          0.0521 |     12.2419 |             3.3777 |        50.5792 |      0.8343 | \n",
      "Multiple eval metrics have been passed: 'test-auc' will be used for early stopping.\n",
      "\n",
      "Will train until test-auc hasn't improved in 50 rounds.\n",
      "Stopping. Best iteration:\n",
      "[68]\ttrain-auc:0.944801+0.00345983\ttest-auc:0.735019+0.00657698\n",
      "\n",
      "   12 | 12m44s |    0.73502 |    0.6543 |             0.5225 |    0.2049 |          0.0315 |     10.0365 |             1.7889 |       994.0136 |      0.9177 | \n"
     ]
    },
    {
     "name": "stderr",
     "output_type": "stream",
     "text": [
      "/Users/mac/anaconda3/lib/python3.5/site-packages/sklearn/gaussian_process/gpr.py:457: UserWarning: fmin_l_bfgs_b terminated abnormally with the  state: {'task': b'ABNORMAL_TERMINATION_IN_LNSRCH', 'funcalls': 53, 'warnflag': 2, 'nit': 4, 'grad': array([-5.77059045e-05])}\n",
      "  \" state: %s\" % convergence_dict)\n",
      "/Users/mac/anaconda3/lib/python3.5/site-packages/sklearn/gaussian_process/gpr.py:335: UserWarning: Predicted variances smaller than 0. Setting those variances to 0.\n",
      "  warnings.warn(\"Predicted variances smaller than 0. \"\n"
     ]
    },
    {
     "name": "stdout",
     "output_type": "stream",
     "text": [
      "Multiple eval metrics have been passed: 'test-auc' will be used for early stopping.\n",
      "\n",
      "Will train until test-auc hasn't improved in 50 rounds.\n",
      "Stopping. Best iteration:\n",
      "[21]\ttrain-auc:0.826319+0.003326\ttest-auc:0.737174+0.00645488\n",
      "\n",
      "   13 | 05m45s |    0.73717 |    0.0330 |             0.7143 |    0.0530 |          0.0979 |      7.4087 |            19.6819 |       775.1989 |      0.8997 | \n",
      "Multiple eval metrics have been passed: 'test-auc' will be used for early stopping.\n",
      "\n",
      "Will train until test-auc hasn't improved in 50 rounds.\n",
      "Stopping. Best iteration:\n",
      "[37]\ttrain-auc:0.772549+0.00125129\ttest-auc:0.738277+0.00673704\n",
      "\n",
      "   14 | 09m28s |    0.73828 |    9.5055 |             0.7337 |    0.9096 |          0.0998 |     14.9314 |             2.1799 |       865.1332 |      0.6109 | \n",
      "Multiple eval metrics have been passed: 'test-auc' will be used for early stopping.\n",
      "\n",
      "Will train until test-auc hasn't improved in 50 rounds.\n",
      "Stopping. Best iteration:\n",
      "[121]\ttrain-auc:0.747955+0.00192407\ttest-auc:0.740211+0.00795543\n",
      "\n",
      "   15 | 04m31s |    0.74021 |    9.3550 |             0.5528 |    1.3715 |          0.0514 |      3.3700 |            19.9086 |       992.7838 |      0.7793 | \n",
      "Multiple eval metrics have been passed: 'test-auc' will be used for early stopping.\n",
      "\n",
      "Will train until test-auc hasn't improved in 50 rounds.\n",
      "Stopping. Best iteration:\n",
      "[30]\ttrain-auc:0.892843+0.0013767\ttest-auc:0.732083+0.00520227\n",
      "\n",
      "   16 | 08m09s |    0.73208 |    0.1704 |             0.3286 |    1.5127 |          0.0799 |     13.9523 |             1.3375 |       192.8504 |      0.7379 | \n",
      "Multiple eval metrics have been passed: 'test-auc' will be used for early stopping.\n",
      "\n",
      "Will train until test-auc hasn't improved in 50 rounds.\n",
      "Stopping. Best iteration:\n",
      "[70]\ttrain-auc:0.792253+0.00160734\ttest-auc:0.736562+0.00735889\n",
      "\n",
      "   17 | 10m39s |    0.73656 |    9.9427 |             0.1517 |    0.1273 |          0.0296 |     13.0263 |            16.0339 |       468.3794 |      0.8754 | \n"
     ]
    },
    {
     "name": "stderr",
     "output_type": "stream",
     "text": [
      "/Users/mac/anaconda3/lib/python3.5/site-packages/sklearn/gaussian_process/gpr.py:457: UserWarning: fmin_l_bfgs_b terminated abnormally with the  state: {'task': b'ABNORMAL_TERMINATION_IN_LNSRCH', 'funcalls': 60, 'warnflag': 2, 'nit': 5, 'grad': array([0.0002687])}\n",
      "  \" state: %s\" % convergence_dict)\n"
     ]
    },
    {
     "name": "stdout",
     "output_type": "stream",
     "text": [
      "Multiple eval metrics have been passed: 'test-auc' will be used for early stopping.\n",
      "\n",
      "Will train until test-auc hasn't improved in 50 rounds.\n",
      "Stopping. Best iteration:\n",
      "[69]\ttrain-auc:0.739343+0.00288806\ttest-auc:0.735726+0.00759502\n",
      "\n",
      "   18 | 06m31s |    0.73573 |    0.5061 |             0.4319 |    9.8621 |          0.0840 |      7.0254 |            19.5997 |        53.3090 |      0.8441 | \n"
     ]
    },
    {
     "name": "stderr",
     "output_type": "stream",
     "text": [
      "/Users/mac/anaconda3/lib/python3.5/site-packages/sklearn/gaussian_process/gpr.py:457: UserWarning: fmin_l_bfgs_b terminated abnormally with the  state: {'task': b'ABNORMAL_TERMINATION_IN_LNSRCH', 'funcalls': 52, 'warnflag': 2, 'nit': 6, 'grad': array([6.35104037e-05])}\n",
      "  \" state: %s\" % convergence_dict)\n"
     ]
    },
    {
     "name": "stdout",
     "output_type": "stream",
     "text": [
      "Multiple eval metrics have been passed: 'test-auc' will be used for early stopping.\n",
      "\n",
      "Will train until test-auc hasn't improved in 50 rounds.\n",
      "Stopping. Best iteration:\n",
      "[88]\ttrain-auc:0.749549+0.00208844\ttest-auc:0.740392+0.00805895\n",
      "\n",
      "   19 | 05m36s | \u001b[35m   0.74039\u001b[0m | \u001b[32m   6.2402\u001b[0m | \u001b[32m            0.1666\u001b[0m | \u001b[32m   1.2251\u001b[0m | \u001b[32m         0.0434\u001b[0m | \u001b[32m     3.1262\u001b[0m | \u001b[32m            1.9284\u001b[0m | \u001b[32m      924.8154\u001b[0m | \u001b[32m     0.8917\u001b[0m | \n"
     ]
    },
    {
     "name": "stderr",
     "output_type": "stream",
     "text": [
      "/Users/mac/anaconda3/lib/python3.5/site-packages/sklearn/gaussian_process/gpr.py:457: UserWarning: fmin_l_bfgs_b terminated abnormally with the  state: {'task': b'ABNORMAL_TERMINATION_IN_LNSRCH', 'funcalls': 49, 'warnflag': 2, 'nit': 2, 'grad': array([-0.00044117])}\n",
      "  \" state: %s\" % convergence_dict)\n"
     ]
    },
    {
     "name": "stdout",
     "output_type": "stream",
     "text": [
      "Multiple eval metrics have been passed: 'test-auc' will be used for early stopping.\n",
      "\n",
      "Will train until test-auc hasn't improved in 50 rounds.\n",
      "Stopping. Best iteration:\n",
      "[145]\ttrain-auc:0.738003+0.00270229\ttest-auc:0.735077+0.00769037\n",
      "\n",
      "   20 | 05m27s |    0.73508 |    9.8730 |             0.7281 |    7.2938 |          0.0775 |      3.1994 |             3.8235 |       996.7281 |      0.5002 | \n"
     ]
    },
    {
     "name": "stderr",
     "output_type": "stream",
     "text": [
      "/Users/mac/anaconda3/lib/python3.5/site-packages/sklearn/gaussian_process/gpr.py:457: UserWarning: fmin_l_bfgs_b terminated abnormally with the  state: {'task': b'ABNORMAL_TERMINATION_IN_LNSRCH', 'funcalls': 60, 'warnflag': 2, 'nit': 5, 'grad': array([6.94166101e-05])}\n",
      "  \" state: %s\" % convergence_dict)\n"
     ]
    },
    {
     "name": "stdout",
     "output_type": "stream",
     "text": [
      "Multiple eval metrics have been passed: 'test-auc' will be used for early stopping.\n",
      "\n",
      "Will train until test-auc hasn't improved in 50 rounds.\n",
      "Stopping. Best iteration:\n",
      "[36]\ttrain-auc:0.753232+0.00182126\ttest-auc:0.740671+0.00779251\n",
      "\n",
      "   21 | 01m46s | \u001b[35m   0.74067\u001b[0m | \u001b[32m   0.3795\u001b[0m | \u001b[32m            0.6503\u001b[0m | \u001b[32m   0.2059\u001b[0m | \u001b[32m         0.0942\u001b[0m | \u001b[32m     3.1356\u001b[0m | \u001b[32m           13.9817\u001b[0m | \u001b[32m      301.0260\u001b[0m | \u001b[32m     0.9739\u001b[0m | \n",
      "Multiple eval metrics have been passed: 'test-auc' will be used for early stopping.\n",
      "\n",
      "Will train until test-auc hasn't improved in 50 rounds.\n",
      "Stopping. Best iteration:\n",
      "[114]\ttrain-auc:0.74037+0.00231658\ttest-auc:0.737399+0.00772071\n",
      "\n",
      "   22 | 19m30s |    0.73740 |    0.2486 |             0.1309 |    7.0136 |          0.0744 |     14.8200 |            17.9987 |       305.7656 |      0.5534 | \n"
     ]
    },
    {
     "name": "stderr",
     "output_type": "stream",
     "text": [
      "/Users/mac/anaconda3/lib/python3.5/site-packages/sklearn/gaussian_process/gpr.py:457: UserWarning: fmin_l_bfgs_b terminated abnormally with the  state: {'task': b'ABNORMAL_TERMINATION_IN_LNSRCH', 'funcalls': 54, 'warnflag': 2, 'nit': 4, 'grad': array([-8.3015409e-05])}\n",
      "  \" state: %s\" % convergence_dict)\n"
     ]
    },
    {
     "name": "stdout",
     "output_type": "stream",
     "text": [
      "Multiple eval metrics have been passed: 'test-auc' will be used for early stopping.\n",
      "\n",
      "Will train until test-auc hasn't improved in 50 rounds.\n",
      "Stopping. Best iteration:\n",
      "[32]\ttrain-auc:0.764212+0.00151011\ttest-auc:0.740507+0.00695284\n",
      "\n",
      "   23 | 03m15s |    0.74051 |    0.3360 |             0.4798 |    0.5477 |          0.0855 |      4.1908 |             1.2782 |       700.8349 |      0.9376 | \n"
     ]
    },
    {
     "name": "stderr",
     "output_type": "stream",
     "text": [
      "/Users/mac/anaconda3/lib/python3.5/site-packages/sklearn/gaussian_process/gpr.py:457: UserWarning: fmin_l_bfgs_b terminated abnormally with the  state: {'task': b'ABNORMAL_TERMINATION_IN_LNSRCH', 'funcalls': 60, 'warnflag': 2, 'nit': 5, 'grad': array([0.00030407])}\n",
      "  \" state: %s\" % convergence_dict)\n"
     ]
    },
    {
     "name": "stdout",
     "output_type": "stream",
     "text": [
      "Multiple eval metrics have been passed: 'test-auc' will be used for early stopping.\n",
      "\n",
      "Will train until test-auc hasn't improved in 50 rounds.\n",
      "Stopping. Best iteration:\n",
      "[62]\ttrain-auc:0.755525+0.00163258\ttest-auc:0.740213+0.00782751\n",
      "\n",
      "   24 | 02m51s |    0.74021 |    7.8244 |             0.3326 |    0.1979 |          0.0713 |      3.0913 |            19.1130 |        91.4993 |      0.7613 | \n",
      "Multiple eval metrics have been passed: 'test-auc' will be used for early stopping.\n",
      "\n",
      "Will train until test-auc hasn't improved in 50 rounds.\n",
      "Stopping. Best iteration:\n",
      "[29]\ttrain-auc:0.790761+0.00136794\ttest-auc:0.7386+0.00891448\n",
      "\n",
      "   25 | 05m19s |    0.73860 |    0.3989 |             0.1006 |    0.7812 |          0.0506 |      6.4887 |             1.4042 |       526.3990 |      0.5198 | \n"
     ]
    },
    {
     "name": "stderr",
     "output_type": "stream",
     "text": [
      "/Users/mac/anaconda3/lib/python3.5/site-packages/sklearn/gaussian_process/gpr.py:457: UserWarning: fmin_l_bfgs_b terminated abnormally with the  state: {'task': b'ABNORMAL_TERMINATION_IN_LNSRCH', 'funcalls': 52, 'warnflag': 2, 'nit': 6, 'grad': array([-0.0001909])}\n",
      "  \" state: %s\" % convergence_dict)\n"
     ]
    },
    {
     "name": "stdout",
     "output_type": "stream",
     "text": [
      "Multiple eval metrics have been passed: 'test-auc' will be used for early stopping.\n",
      "\n",
      "Will train until test-auc hasn't improved in 50 rounds.\n",
      "Stopping. Best iteration:\n",
      "[35]\ttrain-auc:0.770213+0.0014051\ttest-auc:0.736916+0.00677568\n",
      "\n",
      "   26 | 07m35s |    0.73692 |    9.6457 |             0.3826 |    0.5351 |          0.0618 |     14.4826 |            19.2776 |       949.1730 |      0.6705 | \n"
     ]
    },
    {
     "name": "stderr",
     "output_type": "stream",
     "text": [
      "/Users/mac/anaconda3/lib/python3.5/site-packages/sklearn/gaussian_process/gpr.py:457: UserWarning: fmin_l_bfgs_b terminated abnormally with the  state: {'task': b'ABNORMAL_TERMINATION_IN_LNSRCH', 'funcalls': 59, 'warnflag': 2, 'nit': 4, 'grad': array([-0.00020506])}\n",
      "  \" state: %s\" % convergence_dict)\n"
     ]
    },
    {
     "name": "stdout",
     "output_type": "stream",
     "text": [
      "Multiple eval metrics have been passed: 'test-auc' will be used for early stopping.\n",
      "\n",
      "Will train until test-auc hasn't improved in 50 rounds.\n",
      "Stopping. Best iteration:\n",
      "[36]\ttrain-auc:0.76214+0.0014864\ttest-auc:0.740203+0.00682429\n",
      "\n",
      "   27 | 02m53s |    0.74020 |    0.6806 |             0.5421 |    0.2158 |          0.0675 |      4.0408 |            19.6053 |        54.6258 |      0.9928 | \n",
      "Multiple eval metrics have been passed: 'test-auc' will be used for early stopping.\n",
      "\n",
      "Will train until test-auc hasn't improved in 50 rounds.\n",
      "Stopping. Best iteration:\n",
      "[48]\ttrain-auc:0.756523+0.00164656\ttest-auc:0.740211+0.00715366\n",
      "\n",
      "   28 | 03m32s |    0.74021 |    0.6076 |             0.5664 |    0.1205 |          0.0868 |      3.0533 |            19.8399 |       143.9707 |      0.7230 | \n"
     ]
    },
    {
     "name": "stderr",
     "output_type": "stream",
     "text": [
      "/Users/mac/anaconda3/lib/python3.5/site-packages/sklearn/gaussian_process/gpr.py:457: UserWarning: fmin_l_bfgs_b terminated abnormally with the  state: {'task': b'ABNORMAL_TERMINATION_IN_LNSRCH', 'funcalls': 52, 'warnflag': 2, 'nit': 4, 'grad': array([-5.62433883e-05])}\n",
      "  \" state: %s\" % convergence_dict)\n"
     ]
    },
    {
     "name": "stdout",
     "output_type": "stream",
     "text": [
      "Multiple eval metrics have been passed: 'test-auc' will be used for early stopping.\n",
      "\n",
      "Will train until test-auc hasn't improved in 50 rounds.\n",
      "Stopping. Best iteration:\n",
      "[150]\ttrain-auc:0.756223+0.00178005\ttest-auc:0.740753+0.0070435\n",
      "\n",
      "   29 | 04m49s | \u001b[35m   0.74075\u001b[0m | \u001b[32m   0.5371\u001b[0m | \u001b[32m            0.9712\u001b[0m | \u001b[32m   0.3437\u001b[0m | \u001b[32m         0.0280\u001b[0m | \u001b[32m     3.8254\u001b[0m | \u001b[32m           19.6945\u001b[0m | \u001b[32m      361.9041\u001b[0m | \u001b[32m     0.9247\u001b[0m | \n"
     ]
    },
    {
     "name": "stderr",
     "output_type": "stream",
     "text": [
      "/Users/mac/anaconda3/lib/python3.5/site-packages/sklearn/gaussian_process/gpr.py:457: UserWarning: fmin_l_bfgs_b terminated abnormally with the  state: {'task': b'ABNORMAL_TERMINATION_IN_LNSRCH', 'funcalls': 61, 'warnflag': 2, 'nit': 6, 'grad': array([-0.00025933])}\n",
      "  \" state: %s\" % convergence_dict)\n"
     ]
    },
    {
     "name": "stdout",
     "output_type": "stream",
     "text": [
      "Multiple eval metrics have been passed: 'test-auc' will be used for early stopping.\n",
      "\n",
      "Will train until test-auc hasn't improved in 50 rounds.\n",
      "Stopping. Best iteration:\n",
      "[225]\ttrain-auc:0.747741+0.002193\ttest-auc:0.73949+0.00735738\n",
      "\n",
      "   30 | 07m47s |    0.73949 |    2.5593 |             0.1458 |    2.1574 |          0.0582 |      3.2488 |             1.4223 |       819.0518 |      0.5267 | \n"
     ]
    },
    {
     "name": "stderr",
     "output_type": "stream",
     "text": [
      "/Users/mac/anaconda3/lib/python3.5/site-packages/sklearn/gaussian_process/gpr.py:457: UserWarning: fmin_l_bfgs_b terminated abnormally with the  state: {'task': b'ABNORMAL_TERMINATION_IN_LNSRCH', 'funcalls': 62, 'warnflag': 2, 'nit': 5, 'grad': array([-0.00064619])}\n",
      "  \" state: %s\" % convergence_dict)\n"
     ]
    },
    {
     "name": "stdout",
     "output_type": "stream",
     "text": [
      "Multiple eval metrics have been passed: 'test-auc' will be used for early stopping.\n",
      "\n",
      "Will train until test-auc hasn't improved in 50 rounds.\n",
      "Stopping. Best iteration:\n",
      "[24]\ttrain-auc:0.872762+0.00237663\ttest-auc:0.727627+0.00622389\n",
      "\n",
      "   31 | 09m39s |    0.72763 |    0.8491 |             0.2201 |    1.1279 |          0.0779 |     14.1954 |             1.2049 |       734.7474 |      0.5861 | \n",
      "Multiple eval metrics have been passed: 'test-auc' will be used for early stopping.\n",
      "\n",
      "Will train until test-auc hasn't improved in 50 rounds.\n",
      "Stopping. Best iteration:\n",
      "[149]\ttrain-auc:0.748439+0.00192036\ttest-auc:0.739891+0.00701191\n",
      "\n",
      "   32 | 06m37s |    0.73989 |    8.9561 |             0.6328 |    1.4185 |          0.0780 |      3.9936 |            19.3899 |       678.7082 |      0.5601 | \n"
     ]
    },
    {
     "name": "stderr",
     "output_type": "stream",
     "text": [
      "/Users/mac/anaconda3/lib/python3.5/site-packages/sklearn/gaussian_process/gpr.py:457: UserWarning: fmin_l_bfgs_b terminated abnormally with the  state: {'task': b'ABNORMAL_TERMINATION_IN_LNSRCH', 'funcalls': 63, 'warnflag': 2, 'nit': 6, 'grad': array([-0.00018538])}\n",
      "  \" state: %s\" % convergence_dict)\n"
     ]
    },
    {
     "name": "stdout",
     "output_type": "stream",
     "text": [
      "Multiple eval metrics have been passed: 'test-auc' will be used for early stopping.\n",
      "\n",
      "Will train until test-auc hasn't improved in 50 rounds.\n",
      "Stopping. Best iteration:\n",
      "[133]\ttrain-auc:0.755848+0.00174829\ttest-auc:0.740024+0.00705732\n",
      "\n",
      "   33 | 06m41s |    0.74002 |    9.7390 |             0.6761 |    0.2984 |          0.0359 |      3.4775 |            18.1556 |       868.9848 |      0.6296 | \n",
      "Multiple eval metrics have been passed: 'test-auc' will be used for early stopping.\n",
      "\n",
      "Will train until test-auc hasn't improved in 50 rounds.\n",
      "Stopping. Best iteration:\n",
      "[84]\ttrain-auc:0.780223+0.000926588\ttest-auc:0.73906+0.00699998\n",
      "\n",
      "   34 | 14m16s |    0.73906 |    7.8818 |             0.9382 |    0.8428 |          0.0405 |     13.9725 |            19.9323 |        55.0471 |      0.6676 | \n",
      "Multiple eval metrics have been passed: 'test-auc' will be used for early stopping.\n",
      "\n",
      "Will train until test-auc hasn't improved in 50 rounds.\n",
      "Stopping. Best iteration:\n",
      "[188]\ttrain-auc:0.75667+0.0017583\ttest-auc:0.739865+0.00753605\n",
      "\n",
      "   35 | 06m31s |    0.73986 |    9.7592 |             0.8014 |    0.1299 |          0.0265 |      3.4738 |            18.7567 |       239.0303 |      0.7556 | \n"
     ]
    }
   ],
   "source": [
    "xgbBO.maximize(init_points=init_points, n_iter=num_iter)"
   ]
  },
  {
   "cell_type": "code",
   "execution_count": 507,
   "metadata": {},
   "outputs": [
    {
     "data": {
      "text/plain": [
       "{'alpha': 0.5370730489004005,\n",
       " 'colsample_bytree': 0.9711819342305409,\n",
       " 'gamma': 0.343690951680623,\n",
       " 'learning_rate': 0.02800171027744057,\n",
       " 'max_depth': 3.825439512548069,\n",
       " 'min_child_weight': 19.6945067158265,\n",
       " 'n_estimators': 361.9041398081913,\n",
       " 'subsample': 0.9247161516471999}"
      ]
     },
     "execution_count": 507,
     "metadata": {},
     "output_type": "execute_result"
    }
   ],
   "source": [
    "best_params = xgbBO.res['max']['max_params']\n",
    "best_params"
   ]
  },
  {
   "cell_type": "code",
   "execution_count": 505,
   "metadata": {},
   "outputs": [
    {
     "data": {
      "text/plain": [
       "0.7407528000000001"
      ]
     },
     "execution_count": 505,
     "metadata": {},
     "output_type": "execute_result"
    }
   ],
   "source": [
    "xgbBO.res[\"max\"][\"max_val\"]"
   ]
  },
  {
   "cell_type": "code",
   "execution_count": 514,
   "metadata": {
    "collapsed": true
   },
   "outputs": [],
   "source": [
    "best_params[\"max_depth\"]=int(best_params[\"max_depth\"])\n",
    "best_params[\"n_estimators\"]=int(best_params[\"n_estimators\"])"
   ]
  },
  {
   "cell_type": "code",
   "execution_count": 518,
   "metadata": {
    "collapsed": true
   },
   "outputs": [],
   "source": [
    "xgbClasTuned = xgboost.XGBClassifier(**best_params)"
   ]
  },
  {
   "cell_type": "code",
   "execution_count": 519,
   "metadata": {},
   "outputs": [
    {
     "data": {
      "text/plain": [
       "XGBClassifier(alpha=0.5370730489004005, base_score=0.5, booster='gbtree',\n",
       "       colsample_bylevel=1, colsample_bytree=0.9711819342305409,\n",
       "       gamma=0.343690951680623, learning_rate=0.02800171027744057,\n",
       "       max_delta_step=0, max_depth=3, min_child_weight=19.6945067158265,\n",
       "       missing=None, n_estimators=361, n_jobs=1, nthread=None,\n",
       "       objective='binary:logistic', random_state=0, reg_alpha=0,\n",
       "       reg_lambda=1, scale_pos_weight=1, seed=None, silent=True,\n",
       "       subsample=0.9247161516471999)"
      ]
     },
     "execution_count": 519,
     "metadata": {},
     "output_type": "execute_result"
    }
   ],
   "source": [
    "xgbClasTuned.fit(X_train_aug,Y_train_new)"
   ]
  },
  {
   "cell_type": "code",
   "execution_count": 521,
   "metadata": {
    "collapsed": true
   },
   "outputs": [],
   "source": [
    "vals = xgbClasTuned.predict_proba(X_test)"
   ]
  },
  {
   "cell_type": "code",
   "execution_count": null,
   "metadata": {
    "collapsed": true
   },
   "outputs": [],
   "source": []
  },
  {
   "cell_type": "markdown",
   "metadata": {},
   "source": [
    "Ensembles stacking"
   ]
  },
  {
   "cell_type": "code",
   "execution_count": 17,
   "metadata": {
    "collapsed": true
   },
   "outputs": [],
   "source": [
    "from xgboost import XGBClassifier"
   ]
  },
  {
   "cell_type": "code",
   "execution_count": 81,
   "metadata": {
    "collapsed": true
   },
   "outputs": [],
   "source": [
    "xgb_clas = XGBClassifier(\n",
    "    n_estimators =500,\n",
    "    learning_rate=0.05,\n",
    "    objective=\"binary:logistic\",\n",
    "    n_jobs=-1,\n",
    "    nthread=4,\n",
    "    subsample=0.85,\n",
    "    colsample_bytree=0.9,\n",
    "    colsample_bylevel=0.9,\n",
    "    tree_method=\"hist\",\n",
    "    grow_policy=\"lossguide\"\n",
    ")"
   ]
  },
  {
   "cell_type": "code",
   "execution_count": 29,
   "metadata": {},
   "outputs": [
    {
     "name": "stdout",
     "output_type": "stream",
     "text": [
      "[CV]  ................................................................\n",
      "[CV]  ................................................................\n",
      "[CV]  ................................................................\n",
      "[CV]  ................................................................\n",
      "[CV]  ................................................................\n",
      "[CV]  ................................................................\n",
      "[CV]  ................................................................\n",
      "[CV]  ................................................................\n",
      "[CV] ....................... , score=0.7353812931363002, total= 1.5min\n",
      "[CV] ....................... , score=0.7331733732292651, total= 1.5min\n"
     ]
    },
    {
     "name": "stderr",
     "output_type": "stream",
     "text": [
      "[Parallel(n_jobs=8)]: Done   2 out of   8 | elapsed:  1.5min remaining:  4.5min\n"
     ]
    },
    {
     "name": "stdout",
     "output_type": "stream",
     "text": [
      "[CV] ........................ , score=0.736607105051446, total= 1.5min\n",
      "[CV] ....................... , score=0.7575155373012848, total= 1.5min\n",
      "[CV] ....................... , score=0.7359938462407023, total= 1.5min\n"
     ]
    },
    {
     "name": "stderr",
     "output_type": "stream",
     "text": [
      "[Parallel(n_jobs=8)]: Done   5 out of   8 | elapsed:  1.6min remaining:   56.3s\n"
     ]
    },
    {
     "name": "stdout",
     "output_type": "stream",
     "text": [
      "[CV] ....................... , score=0.7364847057583306, total= 1.5min\n",
      "[CV] ....................... , score=0.7405319651339151, total= 1.5min\n",
      "[CV] ....................... , score=0.7446805706938648, total= 1.5min\n"
     ]
    },
    {
     "name": "stderr",
     "output_type": "stream",
     "text": [
      "[Parallel(n_jobs=8)]: Done   8 out of   8 | elapsed:  1.6min remaining:    0.0s\n",
      "[Parallel(n_jobs=8)]: Done   8 out of   8 | elapsed:  1.6min finished\n"
     ]
    }
   ],
   "source": [
    "scores = cross_val_score(xgb_clas,X_train_new,Y_train_new,cv=8,n_jobs=8,scoring=\"roc_auc\",verbose=4)"
   ]
  },
  {
   "cell_type": "code",
   "execution_count": 32,
   "metadata": {},
   "outputs": [
    {
     "data": {
      "text/plain": [
       "0.7400460495681387"
      ]
     },
     "execution_count": 32,
     "metadata": {},
     "output_type": "execute_result"
    }
   ],
   "source": [
    "scores.mean()"
   ]
  },
  {
   "cell_type": "markdown",
   "metadata": {},
   "source": [
    "Now we add an index feature"
   ]
  },
  {
   "cell_type": "code",
   "execution_count": 51,
   "metadata": {},
   "outputs": [],
   "source": [
    "#X_train_new[\"id\"] = X_train_new.index\n",
    "#X_test[\"id\"] = X_test.index"
   ]
  },
  {
   "cell_type": "code",
   "execution_count": 58,
   "metadata": {
    "collapsed": true
   },
   "outputs": [],
   "source": [
    "X_train_new.drop([\"id\"],axis=1,inplace=True)\n",
    "X_test.drop([\"id\"],axis=1,inplace=True)"
   ]
  },
  {
   "cell_type": "code",
   "execution_count": 42,
   "metadata": {},
   "outputs": [
    {
     "data": {
      "text/plain": [
       "array([0.73538129, 0.73317337, 0.73660711, 0.75751554, 0.73599385,\n",
       "       0.73648471, 0.74468057, 0.74053197])"
      ]
     },
     "execution_count": 42,
     "metadata": {},
     "output_type": "execute_result"
    }
   ],
   "source": [
    "scores"
   ]
  },
  {
   "cell_type": "code",
   "execution_count": 84,
   "metadata": {
    "scrolled": false
   },
   "outputs": [
    {
     "name": "stdout",
     "output_type": "stream",
     "text": [
      "[CV]  ................................................................\n",
      "[CV]  ................................................................\n",
      "[CV]  ................................................................\n",
      "[CV]  ................................................................\n",
      "[CV]  ................................................................\n",
      "[CV]  ................................................................\n",
      "[CV]  ................................................................\n",
      "[CV]  ................................................................\n"
     ]
    },
    {
     "ename": "KeyboardInterrupt",
     "evalue": "",
     "output_type": "error",
     "traceback": [
      "\u001b[0;31m---------------------------------------------------------------------------\u001b[0m",
      "\u001b[0;31mKeyboardInterrupt\u001b[0m                         Traceback (most recent call last)",
      "\u001b[0;32m<ipython-input-84-e6940e04d9d1>\u001b[0m in \u001b[0;36m<module>\u001b[0;34m()\u001b[0m\n\u001b[0;32m----> 1\u001b[0;31m \u001b[0mscores\u001b[0m \u001b[0;34m=\u001b[0m \u001b[0mcross_val_score\u001b[0m\u001b[0;34m(\u001b[0m\u001b[0mxgb_clas\u001b[0m\u001b[0;34m,\u001b[0m\u001b[0mX_train_new\u001b[0m\u001b[0;34m,\u001b[0m\u001b[0mY_train_new\u001b[0m\u001b[0;34m,\u001b[0m\u001b[0mcv\u001b[0m\u001b[0;34m=\u001b[0m\u001b[0;36m8\u001b[0m\u001b[0;34m,\u001b[0m\u001b[0mn_jobs\u001b[0m\u001b[0;34m=\u001b[0m\u001b[0;36m8\u001b[0m\u001b[0;34m,\u001b[0m\u001b[0mscoring\u001b[0m\u001b[0;34m=\u001b[0m\u001b[0;34m\"roc_auc\"\u001b[0m\u001b[0;34m,\u001b[0m\u001b[0mverbose\u001b[0m\u001b[0;34m=\u001b[0m\u001b[0;36m4\u001b[0m\u001b[0;34m)\u001b[0m\u001b[0;34m\u001b[0m\u001b[0m\n\u001b[0m",
      "\u001b[0;32m~/anaconda3/lib/python3.5/site-packages/sklearn/model_selection/_validation.py\u001b[0m in \u001b[0;36mcross_val_score\u001b[0;34m(estimator, X, y, groups, scoring, cv, n_jobs, verbose, fit_params, pre_dispatch)\u001b[0m\n\u001b[1;32m    340\u001b[0m                                 \u001b[0mn_jobs\u001b[0m\u001b[0;34m=\u001b[0m\u001b[0mn_jobs\u001b[0m\u001b[0;34m,\u001b[0m \u001b[0mverbose\u001b[0m\u001b[0;34m=\u001b[0m\u001b[0mverbose\u001b[0m\u001b[0;34m,\u001b[0m\u001b[0;34m\u001b[0m\u001b[0m\n\u001b[1;32m    341\u001b[0m                                 \u001b[0mfit_params\u001b[0m\u001b[0;34m=\u001b[0m\u001b[0mfit_params\u001b[0m\u001b[0;34m,\u001b[0m\u001b[0;34m\u001b[0m\u001b[0m\n\u001b[0;32m--> 342\u001b[0;31m                                 pre_dispatch=pre_dispatch)\n\u001b[0m\u001b[1;32m    343\u001b[0m     \u001b[0;32mreturn\u001b[0m \u001b[0mcv_results\u001b[0m\u001b[0;34m[\u001b[0m\u001b[0;34m'test_score'\u001b[0m\u001b[0;34m]\u001b[0m\u001b[0;34m\u001b[0m\u001b[0m\n\u001b[1;32m    344\u001b[0m \u001b[0;34m\u001b[0m\u001b[0m\n",
      "\u001b[0;32m~/anaconda3/lib/python3.5/site-packages/sklearn/model_selection/_validation.py\u001b[0m in \u001b[0;36mcross_validate\u001b[0;34m(estimator, X, y, groups, scoring, cv, n_jobs, verbose, fit_params, pre_dispatch, return_train_score)\u001b[0m\n\u001b[1;32m    204\u001b[0m             \u001b[0mfit_params\u001b[0m\u001b[0;34m,\u001b[0m \u001b[0mreturn_train_score\u001b[0m\u001b[0;34m=\u001b[0m\u001b[0mreturn_train_score\u001b[0m\u001b[0;34m,\u001b[0m\u001b[0;34m\u001b[0m\u001b[0m\n\u001b[1;32m    205\u001b[0m             return_times=True)\n\u001b[0;32m--> 206\u001b[0;31m         for train, test in cv.split(X, y, groups))\n\u001b[0m\u001b[1;32m    207\u001b[0m \u001b[0;34m\u001b[0m\u001b[0m\n\u001b[1;32m    208\u001b[0m     \u001b[0;32mif\u001b[0m \u001b[0mreturn_train_score\u001b[0m\u001b[0;34m:\u001b[0m\u001b[0;34m\u001b[0m\u001b[0m\n",
      "\u001b[0;32m~/anaconda3/lib/python3.5/site-packages/sklearn/externals/joblib/parallel.py\u001b[0m in \u001b[0;36m__call__\u001b[0;34m(self, iterable)\u001b[0m\n\u001b[1;32m    787\u001b[0m                 \u001b[0;31m# consumption.\u001b[0m\u001b[0;34m\u001b[0m\u001b[0;34m\u001b[0m\u001b[0m\n\u001b[1;32m    788\u001b[0m                 \u001b[0mself\u001b[0m\u001b[0;34m.\u001b[0m\u001b[0m_iterating\u001b[0m \u001b[0;34m=\u001b[0m \u001b[0;32mFalse\u001b[0m\u001b[0;34m\u001b[0m\u001b[0m\n\u001b[0;32m--> 789\u001b[0;31m             \u001b[0mself\u001b[0m\u001b[0;34m.\u001b[0m\u001b[0mretrieve\u001b[0m\u001b[0;34m(\u001b[0m\u001b[0;34m)\u001b[0m\u001b[0;34m\u001b[0m\u001b[0m\n\u001b[0m\u001b[1;32m    790\u001b[0m             \u001b[0;31m# Make sure that we get a last message telling us we are done\u001b[0m\u001b[0;34m\u001b[0m\u001b[0;34m\u001b[0m\u001b[0m\n\u001b[1;32m    791\u001b[0m             \u001b[0melapsed_time\u001b[0m \u001b[0;34m=\u001b[0m \u001b[0mtime\u001b[0m\u001b[0;34m.\u001b[0m\u001b[0mtime\u001b[0m\u001b[0;34m(\u001b[0m\u001b[0;34m)\u001b[0m \u001b[0;34m-\u001b[0m \u001b[0mself\u001b[0m\u001b[0;34m.\u001b[0m\u001b[0m_start_time\u001b[0m\u001b[0;34m\u001b[0m\u001b[0m\n",
      "\u001b[0;32m~/anaconda3/lib/python3.5/site-packages/sklearn/externals/joblib/parallel.py\u001b[0m in \u001b[0;36mretrieve\u001b[0;34m(self)\u001b[0m\n\u001b[1;32m    697\u001b[0m             \u001b[0;32mtry\u001b[0m\u001b[0;34m:\u001b[0m\u001b[0;34m\u001b[0m\u001b[0m\n\u001b[1;32m    698\u001b[0m                 \u001b[0;32mif\u001b[0m \u001b[0mgetattr\u001b[0m\u001b[0;34m(\u001b[0m\u001b[0mself\u001b[0m\u001b[0;34m.\u001b[0m\u001b[0m_backend\u001b[0m\u001b[0;34m,\u001b[0m \u001b[0;34m'supports_timeout'\u001b[0m\u001b[0;34m,\u001b[0m \u001b[0;32mFalse\u001b[0m\u001b[0;34m)\u001b[0m\u001b[0;34m:\u001b[0m\u001b[0;34m\u001b[0m\u001b[0m\n\u001b[0;32m--> 699\u001b[0;31m                     \u001b[0mself\u001b[0m\u001b[0;34m.\u001b[0m\u001b[0m_output\u001b[0m\u001b[0;34m.\u001b[0m\u001b[0mextend\u001b[0m\u001b[0;34m(\u001b[0m\u001b[0mjob\u001b[0m\u001b[0;34m.\u001b[0m\u001b[0mget\u001b[0m\u001b[0;34m(\u001b[0m\u001b[0mtimeout\u001b[0m\u001b[0;34m=\u001b[0m\u001b[0mself\u001b[0m\u001b[0;34m.\u001b[0m\u001b[0mtimeout\u001b[0m\u001b[0;34m)\u001b[0m\u001b[0;34m)\u001b[0m\u001b[0;34m\u001b[0m\u001b[0m\n\u001b[0m\u001b[1;32m    700\u001b[0m                 \u001b[0;32melse\u001b[0m\u001b[0;34m:\u001b[0m\u001b[0;34m\u001b[0m\u001b[0m\n\u001b[1;32m    701\u001b[0m                     \u001b[0mself\u001b[0m\u001b[0;34m.\u001b[0m\u001b[0m_output\u001b[0m\u001b[0;34m.\u001b[0m\u001b[0mextend\u001b[0m\u001b[0;34m(\u001b[0m\u001b[0mjob\u001b[0m\u001b[0;34m.\u001b[0m\u001b[0mget\u001b[0m\u001b[0;34m(\u001b[0m\u001b[0;34m)\u001b[0m\u001b[0;34m)\u001b[0m\u001b[0;34m\u001b[0m\u001b[0m\n",
      "\u001b[0;32m~/anaconda3/lib/python3.5/multiprocessing/pool.py\u001b[0m in \u001b[0;36mget\u001b[0;34m(self, timeout)\u001b[0m\n\u001b[1;32m    600\u001b[0m \u001b[0;34m\u001b[0m\u001b[0m\n\u001b[1;32m    601\u001b[0m     \u001b[0;32mdef\u001b[0m \u001b[0mget\u001b[0m\u001b[0;34m(\u001b[0m\u001b[0mself\u001b[0m\u001b[0;34m,\u001b[0m \u001b[0mtimeout\u001b[0m\u001b[0;34m=\u001b[0m\u001b[0;32mNone\u001b[0m\u001b[0;34m)\u001b[0m\u001b[0;34m:\u001b[0m\u001b[0;34m\u001b[0m\u001b[0m\n\u001b[0;32m--> 602\u001b[0;31m         \u001b[0mself\u001b[0m\u001b[0;34m.\u001b[0m\u001b[0mwait\u001b[0m\u001b[0;34m(\u001b[0m\u001b[0mtimeout\u001b[0m\u001b[0;34m)\u001b[0m\u001b[0;34m\u001b[0m\u001b[0m\n\u001b[0m\u001b[1;32m    603\u001b[0m         \u001b[0;32mif\u001b[0m \u001b[0;32mnot\u001b[0m \u001b[0mself\u001b[0m\u001b[0;34m.\u001b[0m\u001b[0mready\u001b[0m\u001b[0;34m(\u001b[0m\u001b[0;34m)\u001b[0m\u001b[0;34m:\u001b[0m\u001b[0;34m\u001b[0m\u001b[0m\n\u001b[1;32m    604\u001b[0m             \u001b[0;32mraise\u001b[0m \u001b[0mTimeoutError\u001b[0m\u001b[0;34m\u001b[0m\u001b[0m\n",
      "\u001b[0;32m~/anaconda3/lib/python3.5/multiprocessing/pool.py\u001b[0m in \u001b[0;36mwait\u001b[0;34m(self, timeout)\u001b[0m\n\u001b[1;32m    597\u001b[0m \u001b[0;34m\u001b[0m\u001b[0m\n\u001b[1;32m    598\u001b[0m     \u001b[0;32mdef\u001b[0m \u001b[0mwait\u001b[0m\u001b[0;34m(\u001b[0m\u001b[0mself\u001b[0m\u001b[0;34m,\u001b[0m \u001b[0mtimeout\u001b[0m\u001b[0;34m=\u001b[0m\u001b[0;32mNone\u001b[0m\u001b[0;34m)\u001b[0m\u001b[0;34m:\u001b[0m\u001b[0;34m\u001b[0m\u001b[0m\n\u001b[0;32m--> 599\u001b[0;31m         \u001b[0mself\u001b[0m\u001b[0;34m.\u001b[0m\u001b[0m_event\u001b[0m\u001b[0;34m.\u001b[0m\u001b[0mwait\u001b[0m\u001b[0;34m(\u001b[0m\u001b[0mtimeout\u001b[0m\u001b[0;34m)\u001b[0m\u001b[0;34m\u001b[0m\u001b[0m\n\u001b[0m\u001b[1;32m    600\u001b[0m \u001b[0;34m\u001b[0m\u001b[0m\n\u001b[1;32m    601\u001b[0m     \u001b[0;32mdef\u001b[0m \u001b[0mget\u001b[0m\u001b[0;34m(\u001b[0m\u001b[0mself\u001b[0m\u001b[0;34m,\u001b[0m \u001b[0mtimeout\u001b[0m\u001b[0;34m=\u001b[0m\u001b[0;32mNone\u001b[0m\u001b[0;34m)\u001b[0m\u001b[0;34m:\u001b[0m\u001b[0;34m\u001b[0m\u001b[0m\n",
      "\u001b[0;32m~/anaconda3/lib/python3.5/threading.py\u001b[0m in \u001b[0;36mwait\u001b[0;34m(self, timeout)\u001b[0m\n\u001b[1;32m    547\u001b[0m             \u001b[0msignaled\u001b[0m \u001b[0;34m=\u001b[0m \u001b[0mself\u001b[0m\u001b[0;34m.\u001b[0m\u001b[0m_flag\u001b[0m\u001b[0;34m\u001b[0m\u001b[0m\n\u001b[1;32m    548\u001b[0m             \u001b[0;32mif\u001b[0m \u001b[0;32mnot\u001b[0m \u001b[0msignaled\u001b[0m\u001b[0;34m:\u001b[0m\u001b[0;34m\u001b[0m\u001b[0m\n\u001b[0;32m--> 549\u001b[0;31m                 \u001b[0msignaled\u001b[0m \u001b[0;34m=\u001b[0m \u001b[0mself\u001b[0m\u001b[0;34m.\u001b[0m\u001b[0m_cond\u001b[0m\u001b[0;34m.\u001b[0m\u001b[0mwait\u001b[0m\u001b[0;34m(\u001b[0m\u001b[0mtimeout\u001b[0m\u001b[0;34m)\u001b[0m\u001b[0;34m\u001b[0m\u001b[0m\n\u001b[0m\u001b[1;32m    550\u001b[0m             \u001b[0;32mreturn\u001b[0m \u001b[0msignaled\u001b[0m\u001b[0;34m\u001b[0m\u001b[0m\n\u001b[1;32m    551\u001b[0m \u001b[0;34m\u001b[0m\u001b[0m\n",
      "\u001b[0;32m~/anaconda3/lib/python3.5/threading.py\u001b[0m in \u001b[0;36mwait\u001b[0;34m(self, timeout)\u001b[0m\n\u001b[1;32m    291\u001b[0m         \u001b[0;32mtry\u001b[0m\u001b[0;34m:\u001b[0m    \u001b[0;31m# restore state no matter what (e.g., KeyboardInterrupt)\u001b[0m\u001b[0;34m\u001b[0m\u001b[0m\n\u001b[1;32m    292\u001b[0m             \u001b[0;32mif\u001b[0m \u001b[0mtimeout\u001b[0m \u001b[0;32mis\u001b[0m \u001b[0;32mNone\u001b[0m\u001b[0;34m:\u001b[0m\u001b[0;34m\u001b[0m\u001b[0m\n\u001b[0;32m--> 293\u001b[0;31m                 \u001b[0mwaiter\u001b[0m\u001b[0;34m.\u001b[0m\u001b[0macquire\u001b[0m\u001b[0;34m(\u001b[0m\u001b[0;34m)\u001b[0m\u001b[0;34m\u001b[0m\u001b[0m\n\u001b[0m\u001b[1;32m    294\u001b[0m                 \u001b[0mgotit\u001b[0m \u001b[0;34m=\u001b[0m \u001b[0;32mTrue\u001b[0m\u001b[0;34m\u001b[0m\u001b[0m\n\u001b[1;32m    295\u001b[0m             \u001b[0;32melse\u001b[0m\u001b[0;34m:\u001b[0m\u001b[0;34m\u001b[0m\u001b[0m\n",
      "\u001b[0;31mKeyboardInterrupt\u001b[0m: "
     ]
    }
   ],
   "source": [
    "scores = cross_val_score(xgb_clas,X_train_new,Y_train_new,cv=8,n_jobs=8,scoring=\"roc_auc\",verbose=4)"
   ]
  },
  {
   "cell_type": "code",
   "execution_count": 65,
   "metadata": {},
   "outputs": [],
   "source": [
    "val_ids= scores_id\n",
    "lb_result_ids = 0.75627114"
   ]
  },
  {
   "cell_type": "code",
   "execution_count": 66,
   "metadata": {},
   "outputs": [],
   "source": [
    "val_without_ids=scores\n",
    "lb_result_without_ids =0.75814019"
   ]
  },
  {
   "cell_type": "code",
   "execution_count": 69,
   "metadata": {},
   "outputs": [
    {
     "data": {
      "text/plain": [
       "0.7374555893693024"
      ]
     },
     "execution_count": 69,
     "metadata": {},
     "output_type": "execute_result"
    }
   ],
   "source": [
    "val_ids.mean()"
   ]
  },
  {
   "cell_type": "code",
   "execution_count": 70,
   "metadata": {},
   "outputs": [
    {
     "data": {
      "text/plain": [
       "0.7400460495681387"
      ]
     },
     "execution_count": 70,
     "metadata": {},
     "output_type": "execute_result"
    }
   ],
   "source": [
    "val_without_ids.mean()"
   ]
  },
  {
   "cell_type": "code",
   "execution_count": 71,
   "metadata": {},
   "outputs": [
    {
     "data": {
      "text/plain": [
       "0.0018690500000000387"
      ]
     },
     "execution_count": 71,
     "metadata": {},
     "output_type": "execute_result"
    }
   ],
   "source": [
    "lb_result_without_ids-lb_result_ids"
   ]
  },
  {
   "cell_type": "code",
   "execution_count": 73,
   "metadata": {},
   "outputs": [
    {
     "data": {
      "text/plain": [
       "0.002590460198836242"
      ]
     },
     "execution_count": 73,
     "metadata": {},
     "output_type": "execute_result"
    }
   ],
   "source": [
    "np.abs(val_ids.mean()-val_without_ids.mean())"
   ]
  },
  {
   "cell_type": "markdown",
   "metadata": {},
   "source": [
    "Lookds like we have quite good validation,additionaly I want to check my score on training set"
   ]
  },
  {
   "cell_type": "code",
   "execution_count": null,
   "metadata": {
    "collapsed": true
   },
   "outputs": [],
   "source": [
    "X_train_new,Y_train_new = train.drop([\"0\"],axis=1),train[\"0\"]\n",
    "myIterator=skf.split(X_train_new,Y_train_new)\n",
    "for train,valid in myIterator:\n",
    "    "
   ]
  },
  {
   "cell_type": "code",
   "execution_count": null,
   "metadata": {
    "collapsed": true
   },
   "outputs": [],
   "source": []
  },
  {
   "cell_type": "code",
   "execution_count": null,
   "metadata": {
    "collapsed": true
   },
   "outputs": [],
   "source": []
  },
  {
   "cell_type": "code",
   "execution_count": null,
   "metadata": {
    "collapsed": true
   },
   "outputs": [],
   "source": []
  },
  {
   "cell_type": "code",
   "execution_count": 59,
   "metadata": {},
   "outputs": [
    {
     "data": {
      "text/plain": [
       "XGBClassifier(base_score=0.5, booster='gbtree', colsample_bylevel=0.9,\n",
       "       colsample_bytree=0.9, gamma=0, grow_policy='lossguide',\n",
       "       learning_rate=0.05, max_delta_step=0, max_depth=3,\n",
       "       min_child_weight=1, missing=None, n_estimators=500, n_jobs=-1,\n",
       "       nthread=4, objective='binary:logistic', random_state=0, reg_alpha=0,\n",
       "       reg_lambda=1, scale_pos_weight=1, seed=None, silent=True,\n",
       "       subsample=0.85, tree_method='hist')"
      ]
     },
     "execution_count": 59,
     "metadata": {},
     "output_type": "execute_result"
    }
   ],
   "source": [
    "xgb_clas.fit(X_train_new,Y_train_new)"
   ]
  },
  {
   "cell_type": "code",
   "execution_count": 60,
   "metadata": {},
   "outputs": [],
   "source": [
    "vals = xgb_clas.predict_proba(X_test)"
   ]
  },
  {
   "cell_type": "code",
   "execution_count": 61,
   "metadata": {},
   "outputs": [
    {
     "name": "stderr",
     "output_type": "stream",
     "text": [
      "/Users/mac/anaconda3/lib/python3.5/site-packages/ipykernel_launcher.py:2: SettingWithCopyWarning: \n",
      "A value is trying to be set on a copy of a slice from a DataFrame.\n",
      "Try using .loc[row_indexer,col_indexer] = value instead\n",
      "\n",
      "See the caveats in the documentation: http://pandas.pydata.org/pandas-docs/stable/indexing.html#indexing-view-versus-copy\n",
      "  \n"
     ]
    },
    {
     "data": {
      "text/html": [
       "<div>\n",
       "<style scoped>\n",
       "    .dataframe tbody tr th:only-of-type {\n",
       "        vertical-align: middle;\n",
       "    }\n",
       "\n",
       "    .dataframe tbody tr th {\n",
       "        vertical-align: top;\n",
       "    }\n",
       "\n",
       "    .dataframe thead th {\n",
       "        text-align: right;\n",
       "    }\n",
       "</style>\n",
       "<table border=\"1\" class=\"dataframe\">\n",
       "  <thead>\n",
       "    <tr style=\"text-align: right;\">\n",
       "      <th></th>\n",
       "      <th>_ID_</th>\n",
       "      <th>_VAL_</th>\n",
       "    </tr>\n",
       "  </thead>\n",
       "  <tbody>\n",
       "    <tr>\n",
       "      <th>0</th>\n",
       "      <td>0</td>\n",
       "      <td>0.176158</td>\n",
       "    </tr>\n",
       "    <tr>\n",
       "      <th>1</th>\n",
       "      <td>1</td>\n",
       "      <td>0.496563</td>\n",
       "    </tr>\n",
       "    <tr>\n",
       "      <th>2</th>\n",
       "      <td>2</td>\n",
       "      <td>0.185789</td>\n",
       "    </tr>\n",
       "    <tr>\n",
       "      <th>3</th>\n",
       "      <td>3</td>\n",
       "      <td>0.351222</td>\n",
       "    </tr>\n",
       "    <tr>\n",
       "      <th>4</th>\n",
       "      <td>4</td>\n",
       "      <td>0.583308</td>\n",
       "    </tr>\n",
       "    <tr>\n",
       "      <th>5</th>\n",
       "      <td>5</td>\n",
       "      <td>0.371492</td>\n",
       "    </tr>\n",
       "    <tr>\n",
       "      <th>6</th>\n",
       "      <td>6</td>\n",
       "      <td>0.094779</td>\n",
       "    </tr>\n",
       "    <tr>\n",
       "      <th>7</th>\n",
       "      <td>7</td>\n",
       "      <td>0.131359</td>\n",
       "    </tr>\n",
       "    <tr>\n",
       "      <th>8</th>\n",
       "      <td>8</td>\n",
       "      <td>0.120234</td>\n",
       "    </tr>\n",
       "    <tr>\n",
       "      <th>9</th>\n",
       "      <td>9</td>\n",
       "      <td>0.267031</td>\n",
       "    </tr>\n",
       "    <tr>\n",
       "      <th>10</th>\n",
       "      <td>10</td>\n",
       "      <td>0.087719</td>\n",
       "    </tr>\n",
       "    <tr>\n",
       "      <th>11</th>\n",
       "      <td>11</td>\n",
       "      <td>0.548119</td>\n",
       "    </tr>\n",
       "    <tr>\n",
       "      <th>12</th>\n",
       "      <td>12</td>\n",
       "      <td>0.036665</td>\n",
       "    </tr>\n",
       "    <tr>\n",
       "      <th>13</th>\n",
       "      <td>13</td>\n",
       "      <td>0.106425</td>\n",
       "    </tr>\n",
       "    <tr>\n",
       "      <th>14</th>\n",
       "      <td>14</td>\n",
       "      <td>0.632623</td>\n",
       "    </tr>\n",
       "    <tr>\n",
       "      <th>15</th>\n",
       "      <td>15</td>\n",
       "      <td>0.190872</td>\n",
       "    </tr>\n",
       "    <tr>\n",
       "      <th>16</th>\n",
       "      <td>16</td>\n",
       "      <td>0.055966</td>\n",
       "    </tr>\n",
       "    <tr>\n",
       "      <th>17</th>\n",
       "      <td>17</td>\n",
       "      <td>0.231174</td>\n",
       "    </tr>\n",
       "    <tr>\n",
       "      <th>18</th>\n",
       "      <td>18</td>\n",
       "      <td>0.337020</td>\n",
       "    </tr>\n",
       "    <tr>\n",
       "      <th>19</th>\n",
       "      <td>19</td>\n",
       "      <td>0.077670</td>\n",
       "    </tr>\n",
       "    <tr>\n",
       "      <th>20</th>\n",
       "      <td>20</td>\n",
       "      <td>0.038637</td>\n",
       "    </tr>\n",
       "    <tr>\n",
       "      <th>21</th>\n",
       "      <td>21</td>\n",
       "      <td>0.274416</td>\n",
       "    </tr>\n",
       "    <tr>\n",
       "      <th>22</th>\n",
       "      <td>22</td>\n",
       "      <td>0.194459</td>\n",
       "    </tr>\n",
       "    <tr>\n",
       "      <th>23</th>\n",
       "      <td>23</td>\n",
       "      <td>0.045756</td>\n",
       "    </tr>\n",
       "    <tr>\n",
       "      <th>24</th>\n",
       "      <td>24</td>\n",
       "      <td>0.584469</td>\n",
       "    </tr>\n",
       "    <tr>\n",
       "      <th>25</th>\n",
       "      <td>25</td>\n",
       "      <td>0.330293</td>\n",
       "    </tr>\n",
       "    <tr>\n",
       "      <th>26</th>\n",
       "      <td>26</td>\n",
       "      <td>0.421448</td>\n",
       "    </tr>\n",
       "    <tr>\n",
       "      <th>27</th>\n",
       "      <td>27</td>\n",
       "      <td>0.108078</td>\n",
       "    </tr>\n",
       "    <tr>\n",
       "      <th>28</th>\n",
       "      <td>28</td>\n",
       "      <td>0.060065</td>\n",
       "    </tr>\n",
       "    <tr>\n",
       "      <th>29</th>\n",
       "      <td>29</td>\n",
       "      <td>0.202409</td>\n",
       "    </tr>\n",
       "    <tr>\n",
       "      <th>...</th>\n",
       "      <td>...</td>\n",
       "      <td>...</td>\n",
       "    </tr>\n",
       "    <tr>\n",
       "      <th>4136</th>\n",
       "      <td>4136</td>\n",
       "      <td>0.092445</td>\n",
       "    </tr>\n",
       "    <tr>\n",
       "      <th>4137</th>\n",
       "      <td>4137</td>\n",
       "      <td>0.042786</td>\n",
       "    </tr>\n",
       "    <tr>\n",
       "      <th>4138</th>\n",
       "      <td>4138</td>\n",
       "      <td>0.051418</td>\n",
       "    </tr>\n",
       "    <tr>\n",
       "      <th>4139</th>\n",
       "      <td>4139</td>\n",
       "      <td>0.130539</td>\n",
       "    </tr>\n",
       "    <tr>\n",
       "      <th>4140</th>\n",
       "      <td>4140</td>\n",
       "      <td>0.092454</td>\n",
       "    </tr>\n",
       "    <tr>\n",
       "      <th>4141</th>\n",
       "      <td>4141</td>\n",
       "      <td>0.197068</td>\n",
       "    </tr>\n",
       "    <tr>\n",
       "      <th>4142</th>\n",
       "      <td>4142</td>\n",
       "      <td>0.061135</td>\n",
       "    </tr>\n",
       "    <tr>\n",
       "      <th>4143</th>\n",
       "      <td>4143</td>\n",
       "      <td>0.101450</td>\n",
       "    </tr>\n",
       "    <tr>\n",
       "      <th>4144</th>\n",
       "      <td>4144</td>\n",
       "      <td>0.073056</td>\n",
       "    </tr>\n",
       "    <tr>\n",
       "      <th>4145</th>\n",
       "      <td>4145</td>\n",
       "      <td>0.136259</td>\n",
       "    </tr>\n",
       "    <tr>\n",
       "      <th>4146</th>\n",
       "      <td>4146</td>\n",
       "      <td>0.039297</td>\n",
       "    </tr>\n",
       "    <tr>\n",
       "      <th>4147</th>\n",
       "      <td>4147</td>\n",
       "      <td>0.162160</td>\n",
       "    </tr>\n",
       "    <tr>\n",
       "      <th>4148</th>\n",
       "      <td>4148</td>\n",
       "      <td>0.101623</td>\n",
       "    </tr>\n",
       "    <tr>\n",
       "      <th>4149</th>\n",
       "      <td>4149</td>\n",
       "      <td>0.207706</td>\n",
       "    </tr>\n",
       "    <tr>\n",
       "      <th>4150</th>\n",
       "      <td>4150</td>\n",
       "      <td>0.188614</td>\n",
       "    </tr>\n",
       "    <tr>\n",
       "      <th>4151</th>\n",
       "      <td>4151</td>\n",
       "      <td>0.092200</td>\n",
       "    </tr>\n",
       "    <tr>\n",
       "      <th>4152</th>\n",
       "      <td>4152</td>\n",
       "      <td>0.135397</td>\n",
       "    </tr>\n",
       "    <tr>\n",
       "      <th>4153</th>\n",
       "      <td>4153</td>\n",
       "      <td>0.293525</td>\n",
       "    </tr>\n",
       "    <tr>\n",
       "      <th>4154</th>\n",
       "      <td>4154</td>\n",
       "      <td>0.260406</td>\n",
       "    </tr>\n",
       "    <tr>\n",
       "      <th>4155</th>\n",
       "      <td>4155</td>\n",
       "      <td>0.162452</td>\n",
       "    </tr>\n",
       "    <tr>\n",
       "      <th>4156</th>\n",
       "      <td>4156</td>\n",
       "      <td>0.585425</td>\n",
       "    </tr>\n",
       "    <tr>\n",
       "      <th>4157</th>\n",
       "      <td>4157</td>\n",
       "      <td>0.152621</td>\n",
       "    </tr>\n",
       "    <tr>\n",
       "      <th>4158</th>\n",
       "      <td>4158</td>\n",
       "      <td>0.162583</td>\n",
       "    </tr>\n",
       "    <tr>\n",
       "      <th>4159</th>\n",
       "      <td>4159</td>\n",
       "      <td>0.327771</td>\n",
       "    </tr>\n",
       "    <tr>\n",
       "      <th>4160</th>\n",
       "      <td>4160</td>\n",
       "      <td>0.026848</td>\n",
       "    </tr>\n",
       "    <tr>\n",
       "      <th>4161</th>\n",
       "      <td>4161</td>\n",
       "      <td>0.075669</td>\n",
       "    </tr>\n",
       "    <tr>\n",
       "      <th>4162</th>\n",
       "      <td>4162</td>\n",
       "      <td>0.105081</td>\n",
       "    </tr>\n",
       "    <tr>\n",
       "      <th>4163</th>\n",
       "      <td>4163</td>\n",
       "      <td>0.078610</td>\n",
       "    </tr>\n",
       "    <tr>\n",
       "      <th>4164</th>\n",
       "      <td>4164</td>\n",
       "      <td>0.125588</td>\n",
       "    </tr>\n",
       "    <tr>\n",
       "      <th>4165</th>\n",
       "      <td>4165</td>\n",
       "      <td>0.137140</td>\n",
       "    </tr>\n",
       "  </tbody>\n",
       "</table>\n",
       "<p>4166 rows × 2 columns</p>\n",
       "</div>"
      ],
      "text/plain": [
       "      _ID_     _VAL_\n",
       "0        0  0.176158\n",
       "1        1  0.496563\n",
       "2        2  0.185789\n",
       "3        3  0.351222\n",
       "4        4  0.583308\n",
       "5        5  0.371492\n",
       "6        6  0.094779\n",
       "7        7  0.131359\n",
       "8        8  0.120234\n",
       "9        9  0.267031\n",
       "10      10  0.087719\n",
       "11      11  0.548119\n",
       "12      12  0.036665\n",
       "13      13  0.106425\n",
       "14      14  0.632623\n",
       "15      15  0.190872\n",
       "16      16  0.055966\n",
       "17      17  0.231174\n",
       "18      18  0.337020\n",
       "19      19  0.077670\n",
       "20      20  0.038637\n",
       "21      21  0.274416\n",
       "22      22  0.194459\n",
       "23      23  0.045756\n",
       "24      24  0.584469\n",
       "25      25  0.330293\n",
       "26      26  0.421448\n",
       "27      27  0.108078\n",
       "28      28  0.060065\n",
       "29      29  0.202409\n",
       "...    ...       ...\n",
       "4136  4136  0.092445\n",
       "4137  4137  0.042786\n",
       "4138  4138  0.051418\n",
       "4139  4139  0.130539\n",
       "4140  4140  0.092454\n",
       "4141  4141  0.197068\n",
       "4142  4142  0.061135\n",
       "4143  4143  0.101450\n",
       "4144  4144  0.073056\n",
       "4145  4145  0.136259\n",
       "4146  4146  0.039297\n",
       "4147  4147  0.162160\n",
       "4148  4148  0.101623\n",
       "4149  4149  0.207706\n",
       "4150  4150  0.188614\n",
       "4151  4151  0.092200\n",
       "4152  4152  0.135397\n",
       "4153  4153  0.293525\n",
       "4154  4154  0.260406\n",
       "4155  4155  0.162452\n",
       "4156  4156  0.585425\n",
       "4157  4157  0.152621\n",
       "4158  4158  0.162583\n",
       "4159  4159  0.327771\n",
       "4160  4160  0.026848\n",
       "4161  4161  0.075669\n",
       "4162  4162  0.105081\n",
       "4163  4163  0.078610\n",
       "4164  4164  0.125588\n",
       "4165  4165  0.137140\n",
       "\n",
       "[4166 rows x 2 columns]"
      ]
     },
     "execution_count": 61,
     "metadata": {},
     "output_type": "execute_result"
    }
   ],
   "source": [
    "submit(vals,\"_xgb_without_ids\")"
   ]
  },
  {
   "cell_type": "code",
   "execution_count": 54,
   "metadata": {
    "collapsed": true
   },
   "outputs": [],
   "source": []
  },
  {
   "cell_type": "code",
   "execution_count": null,
   "metadata": {
    "collapsed": true
   },
   "outputs": [],
   "source": []
  }
 ],
 "metadata": {
  "kernelspec": {
   "display_name": "Python 3",
   "language": "python",
   "name": "python3"
  },
  "language_info": {
   "codemirror_mode": {
    "name": "ipython",
    "version": 3
   },
   "file_extension": ".py",
   "mimetype": "text/x-python",
   "name": "python",
   "nbconvert_exporter": "python",
   "pygments_lexer": "ipython3",
   "version": "3.5.2"
  },
  "latex_envs": {
   "LaTeX_envs_menu_present": true,
   "autoclose": false,
   "autocomplete": true,
   "bibliofile": "biblio.bib",
   "cite_by": "apalike",
   "current_citInitial": 1,
   "eqLabelWithNumbers": true,
   "eqNumInitial": 1,
   "hotkeys": {
    "equation": "Ctrl-E",
    "itemize": "Ctrl-I"
   },
   "labels_anchors": false,
   "latex_user_defs": false,
   "report_style_numbering": false,
   "user_envs_cfg": false
  },
  "toc": {
   "nav_menu": {},
   "number_sections": true,
   "sideBar": true,
   "skip_h1_title": false,
   "title_cell": "Table of Contents",
   "title_sidebar": "Contents",
   "toc_cell": false,
   "toc_position": {},
   "toc_section_display": true,
   "toc_window_display": false
  },
  "varInspector": {
   "cols": {
    "lenName": 16,
    "lenType": 16,
    "lenVar": 40
   },
   "kernels_config": {
    "python": {
     "delete_cmd_postfix": "",
     "delete_cmd_prefix": "del ",
     "library": "var_list.py",
     "varRefreshCmd": "print(var_dic_list())"
    },
    "r": {
     "delete_cmd_postfix": ") ",
     "delete_cmd_prefix": "rm(",
     "library": "var_list.r",
     "varRefreshCmd": "cat(var_dic_list()) "
    }
   },
   "types_to_exclude": [
    "module",
    "function",
    "builtin_function_or_method",
    "instance",
    "_Feature"
   ],
   "window_display": false
  }
 },
 "nbformat": 4,
 "nbformat_minor": 2
}
